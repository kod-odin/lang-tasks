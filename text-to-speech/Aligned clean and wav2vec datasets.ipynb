{
 "cells": [
  {
   "cell_type": "code",
   "execution_count": 8,
   "id": "bd6e9c63",
   "metadata": {},
   "outputs": [
    {
     "name": "stdout",
     "output_type": "stream",
     "text": [
      "True\n",
      "True\n"
     ]
    }
   ],
   "source": [
    "from difflib import SequenceMatcher\n",
    "\n",
    "def similarity(a, b):\n",
    "    return SequenceMatcher(None, a, b).ratio()\n",
    "\n",
    "def is_substring(a,b, threshold=0.7):\n",
    "    \"\"\"\n",
    "    Проверяем, что одна строка является подстрокой у второй\n",
    "    с вероятностью выше threshold.\n",
    "    \n",
    "    Этот метод подразумевает, что после распознавания речи слова могут быть с ошибками\n",
    "    \"\"\"\n",
    "    long_text=a if len(a)>=len(b) else b\n",
    "    short_text=b if len(a)>=len(b) else a\n",
    "    \n",
    "    max_sim=0\n",
    "    for i in range(0,len(long_text)-len(short_text)+1):\n",
    "        sim=similarity(long_text[i:i+len(short_text)],short_text)\n",
    "        if sim>max_sim:\n",
    "            max_sim=sim\n",
    "        if max_sim>threshold:\n",
    "            break\n",
    "    \n",
    "    return max_sim>threshold\n",
    "\n",
    "print(is_substring(\"привет мир, как у вас дела?\",\"привыт мир\"))\n",
    "print(is_substring(\"привет мир, как у вас дела?\",\"как увас дела\"))"
   ]
  },
  {
   "cell_type": "code",
   "execution_count": 6,
   "id": "b5c9d032",
   "metadata": {},
   "outputs": [
    {
     "name": "stdout",
     "output_type": "stream",
     "text": [
      "SttRow(text='я был озадачен ', start=13.56, end=14.58)\n"
     ]
    }
   ],
   "source": [
    "class SttRow:\n",
    "    def __init__(self, line):\n",
    "        self.text = line.split(\"|\")[0]\n",
    "        self.start = float(line.split(\"|\")[1])\n",
    "        self.end = float(line.split(\"|\")[2]) \n",
    "        \n",
    "    def __str__(self):\n",
    "        return f\"SttRow(text='{self.text}', start={self.start}, end={self.end})\"\n",
    "\n",
    "    \n",
    "    def get_text(self) -> str:\n",
    "        return self.text\n",
    "    \n",
    "    def get_start(self) -> float:\n",
    "        return self.start\n",
    "    \n",
    "    def get_end(self) -> float:\n",
    "        return self.end\n",
    "        \n",
    "\n",
    "print(SttRow(\"я был озадачен |13.56|14.58\"))"
   ]
  },
  {
   "cell_type": "code",
   "execution_count": 23,
   "id": "888ef3d0",
   "metadata": {},
   "outputs": [],
   "source": [
    "clean_dataset=['после этого мокер заговорил.', \n",
    "              'американский юноша стреляет в президента чтобы обратить на себя внимание малознакомой женщины.', \n",
    "              'я был озадачен.', \n",
    "              'маруся подумала — дело знакомое. а сколько мне будут платить? три доллара в час. рубинчик обещал позвонить.', \n",
    "              'на этот счёт, имеется такая запись', 'я готовил развёрнутую информацию о выставке декоративных собак.', \n",
    "              'есть мнение что он активно готовится к побегу. я промолчал.', \n",
    "              'и все-таки случай для вас неприятный, крайне неприятный, пятно на вашей журналистской репутации.', \n",
    "              'лера была в детском саду. так заведующая его одного и хвалила.', \n",
    "              'его архитектура напоминает кучу детских игрушек.']\n",
    "wav2vec_result=['после этого мокер заговорил |0|2.56', \n",
    "                 'американский юноши стреляет президента чтобы обратить на себя внимание малознакомые женщины |5.44|11.18', \n",
    "                 'я был озадачен |13.56|14.58', \n",
    "                 'марусья подумала дело знакомое а сколько мне будут платить |16.54|20.82', \n",
    "                 'три доллара в час |21.38|22.5', \n",
    "                 'рубинчик обещал позвонить |23.02|24.54', \n",
    "                 'на этот счет имеется такая запись |28.36|30.759999999999998', \n",
    "                 'я говорила развернутую информацию о выставке декоративных собак |34.82|38.68', \n",
    "                 'есть мнение что он активно готовится к побегу я промолчал |43.84|47.9', \n",
    "                 'и все-таки случай для вас неприятный крайне неприятный |49.86|53.78', \n",
    "                 'пятно на вашей журналистской репутации |54.379999999999995|56.62', \n",
    "                 'лера была в детском саду |61.66|63.04', \n",
    "                 'так заведующая его одна выи хвалила |63.56|65.75999999999999', \n",
    "                 'его архитектура напоминает кучу детских игрушек |72.88000000000001|76.2', \n",
    "                 'дядя понизил голос если тебе нужны деньги скажи |81.28|84.9']\n",
    "\n",
    "wav2vec_dataset=[]\n",
    "for line in wav2vec_result:\n",
    "    wav2vec_dataset.append(SttRow(line))\n",
    "    "
   ]
  },
  {
   "cell_type": "code",
   "execution_count": 24,
   "id": "6af12ed4",
   "metadata": {},
   "outputs": [
    {
     "name": "stdout",
     "output_type": "stream",
     "text": [
      "10\n",
      "15\n"
     ]
    }
   ],
   "source": [
    "print(len(clean_dataset))\n",
    "print(len(wav2vec_dataset))"
   ]
  },
  {
   "cell_type": "code",
   "execution_count": 44,
   "id": "4c30da52",
   "metadata": {},
   "outputs": [],
   "source": [
    "import os\n",
    "\n",
    "def aligned_text(clean_lines:[],wav2vec_lines:[])->[]:\n",
    "    j_start=0\n",
    "    \n",
    "    aligned_result=[]\n",
    "\n",
    "    for i in range(len(clean_lines)):\n",
    "        text1=clean_lines[i]\n",
    "#         print(\"text1:\",text1)\n",
    "        found=False\n",
    "        found_sentences=[]\n",
    "        j_current=j_start\n",
    "        \n",
    "        for j in range(max(0,j_current-1),min(10+j_current,len(wav2vec_lines))):\n",
    "            text2=wav2vec_lines[j].get_text()\n",
    "#             print(\"text2:\",text2)\n",
    "            \n",
    "            subsstring=is_substring(text1,text2,0.7)\n",
    "            if subsstring:\n",
    "                found=True\n",
    "#                 print(\"subsstring:\",subsstring)\n",
    "                found_sentences.append(wav2vec_lines[j])\n",
    "\n",
    "            if not subsstring and found:\n",
    "                j_start=j\n",
    "                break\n",
    "        if not found:\n",
    "            j_start=j_current\n",
    "\n",
    "        start_s=0\n",
    "        k=0\n",
    "        while k<len(found_sentences)-1:\n",
    "            s1=found_sentences[k]\n",
    "            change=False\n",
    "            for m in range(k+1,len(found_sentences)):\n",
    "                s2=found_sentences[m]\n",
    "\n",
    "                if is_substring(s1.get_text(),s2.get_text(),0.7):\n",
    "                    start_s=m\n",
    "                    k=m\n",
    "                    change=True\n",
    "                    break\n",
    "            if not change:\n",
    "                k+=1\n",
    "\n",
    "\n",
    "        first_time=None\n",
    "        last_time=None\n",
    "        r_s=\"\"\n",
    "        while start_s<len(found_sentences):\n",
    "            if len(found_sentences[start_s].get_text().strip())==\"\":\n",
    "                start_s+=1\n",
    "                continue\n",
    "            if first_time is None:\n",
    "                first_time=found_sentences[start_s].get_start()\n",
    "            last_time=found_sentences[start_s].get_end()\n",
    "\n",
    "            s=found_sentences[start_s].get_text()\n",
    "            r_s+=s+\" \"\n",
    "            start_s+=1\n",
    "\n",
    "        if r_s!=\"\":\n",
    "            aligned_result.append((f\"{clean_lines[i]}\",SttRow(f\"{r_s}|{first_time}|{last_time}\")))\n",
    "    return aligned_result\n"
   ]
  },
  {
   "cell_type": "code",
   "execution_count": 45,
   "id": "b3008c7c",
   "metadata": {},
   "outputs": [
    {
     "name": "stdout",
     "output_type": "stream",
     "text": [
      "_____________\n",
      "после этого мокер заговорил.\n",
      "SttRow(text='после этого мокер заговорил  ', start=0.0, end=2.56)\n",
      "_____________\n",
      "американский юноша стреляет в президента чтобы обратить на себя внимание малознакомой женщины.\n",
      "SttRow(text='американский юноши стреляет президента чтобы обратить на себя внимание малознакомые женщины  ', start=5.44, end=11.18)\n",
      "_____________\n",
      "я был озадачен.\n",
      "SttRow(text='я был озадачен  ', start=13.56, end=14.58)\n",
      "_____________\n",
      "маруся подумала — дело знакомое. а сколько мне будут платить? три доллара в час. рубинчик обещал позвонить.\n",
      "SttRow(text='марусья подумала дело знакомое а сколько мне будут платить  три доллара в час  рубинчик обещал позвонить  ', start=16.54, end=24.54)\n",
      "_____________\n",
      "на этот счёт, имеется такая запись\n",
      "SttRow(text='на этот счет имеется такая запись  ', start=28.36, end=30.759999999999998)\n",
      "_____________\n",
      "я готовил развёрнутую информацию о выставке декоративных собак.\n",
      "SttRow(text='я говорила развернутую информацию о выставке декоративных собак  ', start=34.82, end=38.68)\n",
      "_____________\n",
      "есть мнение что он активно готовится к побегу. я промолчал.\n",
      "SttRow(text='есть мнение что он активно готовится к побегу я промолчал  ', start=43.84, end=47.9)\n",
      "_____________\n",
      "и все-таки случай для вас неприятный, крайне неприятный, пятно на вашей журналистской репутации.\n",
      "SttRow(text='и все-таки случай для вас неприятный крайне неприятный  пятно на вашей журналистской репутации  ', start=49.86, end=56.62)\n",
      "_____________\n",
      "лера была в детском саду. так заведующая его одного и хвалила.\n",
      "SttRow(text='лера была в детском саду  так заведующая его одна выи хвалила  ', start=61.66, end=65.75999999999999)\n",
      "_____________\n",
      "его архитектура напоминает кучу детских игрушек.\n",
      "SttRow(text='его архитектура напоминает кучу детских игрушек  ', start=72.88000000000001, end=76.2)\n"
     ]
    }
   ],
   "source": [
    "aligned_result = aligned_text(clean_dataset, wav2vec_dataset)\n",
    "\n",
    "for orig,found in aligned_result:\n",
    "    print(\"_____________\")\n",
    "    print(orig)\n",
    "    print(found)\n",
    "    "
   ]
  },
  {
   "cell_type": "code",
   "execution_count": null,
   "id": "821fab5f",
   "metadata": {},
   "outputs": [],
   "source": []
  },
  {
   "cell_type": "code",
   "execution_count": null,
   "id": "88225888",
   "metadata": {},
   "outputs": [],
   "source": []
  }
 ],
 "metadata": {
  "kernelspec": {
   "display_name": "Python 3 (ipykernel)",
   "language": "python",
   "name": "python3"
  },
  "language_info": {
   "codemirror_mode": {
    "name": "ipython",
    "version": 3
   },
   "file_extension": ".py",
   "mimetype": "text/x-python",
   "name": "python",
   "nbconvert_exporter": "python",
   "pygments_lexer": "ipython3",
   "version": "3.8.10"
  }
 },
 "nbformat": 4,
 "nbformat_minor": 5
}
