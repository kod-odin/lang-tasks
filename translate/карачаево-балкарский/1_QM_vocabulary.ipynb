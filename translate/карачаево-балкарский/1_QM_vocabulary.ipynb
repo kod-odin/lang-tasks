{
  "nbformat": 4,
  "nbformat_minor": 0,
  "metadata": {
    "colab": {
      "provenance": []
    },
    "kernelspec": {
      "name": "python3",
      "display_name": "Python 3"
    },
    "language_info": {
      "name": "python"
    },
    "widgets": {
      "application/vnd.jupyter.widget-state+json": {
        "22e07eb644174043bf3bfa66c996a302": {
          "model_module": "@jupyter-widgets/controls",
          "model_name": "HBoxModel",
          "model_module_version": "1.5.0",
          "state": {
            "_dom_classes": [],
            "_model_module": "@jupyter-widgets/controls",
            "_model_module_version": "1.5.0",
            "_model_name": "HBoxModel",
            "_view_count": null,
            "_view_module": "@jupyter-widgets/controls",
            "_view_module_version": "1.5.0",
            "_view_name": "HBoxView",
            "box_style": "",
            "children": [
              "IPY_MODEL_260cd11af85749f6843e13f0f8a6dfbb",
              "IPY_MODEL_f16ea4c3dc044cbcb89757cb6a940da8",
              "IPY_MODEL_90211e8bea1445819397ffd15d232833"
            ],
            "layout": "IPY_MODEL_71402dce62ff4d8ba7246f4113532398"
          }
        },
        "260cd11af85749f6843e13f0f8a6dfbb": {
          "model_module": "@jupyter-widgets/controls",
          "model_name": "HTMLModel",
          "model_module_version": "1.5.0",
          "state": {
            "_dom_classes": [],
            "_model_module": "@jupyter-widgets/controls",
            "_model_module_version": "1.5.0",
            "_model_name": "HTMLModel",
            "_view_count": null,
            "_view_module": "@jupyter-widgets/controls",
            "_view_module_version": "1.5.0",
            "_view_name": "HTMLView",
            "description": "",
            "description_tooltip": null,
            "layout": "IPY_MODEL_0d34cdc9dbad4f18a32f520b6821b124",
            "placeholder": "​",
            "style": "IPY_MODEL_9f13bc81b4bc4ed186ba21e4cc607752",
            "value": "100%"
          }
        },
        "f16ea4c3dc044cbcb89757cb6a940da8": {
          "model_module": "@jupyter-widgets/controls",
          "model_name": "FloatProgressModel",
          "model_module_version": "1.5.0",
          "state": {
            "_dom_classes": [],
            "_model_module": "@jupyter-widgets/controls",
            "_model_module_version": "1.5.0",
            "_model_name": "FloatProgressModel",
            "_view_count": null,
            "_view_module": "@jupyter-widgets/controls",
            "_view_module_version": "1.5.0",
            "_view_name": "ProgressView",
            "bar_style": "success",
            "description": "",
            "description_tooltip": null,
            "layout": "IPY_MODEL_5a9af2b837b1416e8abadd10d24176ae",
            "max": 260602,
            "min": 0,
            "orientation": "horizontal",
            "style": "IPY_MODEL_41b395bdf1214f92acc3b3b487f9f392",
            "value": 260602
          }
        },
        "90211e8bea1445819397ffd15d232833": {
          "model_module": "@jupyter-widgets/controls",
          "model_name": "HTMLModel",
          "model_module_version": "1.5.0",
          "state": {
            "_dom_classes": [],
            "_model_module": "@jupyter-widgets/controls",
            "_model_module_version": "1.5.0",
            "_model_name": "HTMLModel",
            "_view_count": null,
            "_view_module": "@jupyter-widgets/controls",
            "_view_module_version": "1.5.0",
            "_view_name": "HTMLView",
            "description": "",
            "description_tooltip": null,
            "layout": "IPY_MODEL_65ca33ef26204fa4afcbead726c7c3d5",
            "placeholder": "​",
            "style": "IPY_MODEL_200e27f0fd8b4a60a57a172a9638bb4d",
            "value": " 260602/260602 [01:29&lt;00:00, 1153.93it/s]"
          }
        },
        "71402dce62ff4d8ba7246f4113532398": {
          "model_module": "@jupyter-widgets/base",
          "model_name": "LayoutModel",
          "model_module_version": "1.2.0",
          "state": {
            "_model_module": "@jupyter-widgets/base",
            "_model_module_version": "1.2.0",
            "_model_name": "LayoutModel",
            "_view_count": null,
            "_view_module": "@jupyter-widgets/base",
            "_view_module_version": "1.2.0",
            "_view_name": "LayoutView",
            "align_content": null,
            "align_items": null,
            "align_self": null,
            "border": null,
            "bottom": null,
            "display": null,
            "flex": null,
            "flex_flow": null,
            "grid_area": null,
            "grid_auto_columns": null,
            "grid_auto_flow": null,
            "grid_auto_rows": null,
            "grid_column": null,
            "grid_gap": null,
            "grid_row": null,
            "grid_template_areas": null,
            "grid_template_columns": null,
            "grid_template_rows": null,
            "height": null,
            "justify_content": null,
            "justify_items": null,
            "left": null,
            "margin": null,
            "max_height": null,
            "max_width": null,
            "min_height": null,
            "min_width": null,
            "object_fit": null,
            "object_position": null,
            "order": null,
            "overflow": null,
            "overflow_x": null,
            "overflow_y": null,
            "padding": null,
            "right": null,
            "top": null,
            "visibility": null,
            "width": null
          }
        },
        "0d34cdc9dbad4f18a32f520b6821b124": {
          "model_module": "@jupyter-widgets/base",
          "model_name": "LayoutModel",
          "model_module_version": "1.2.0",
          "state": {
            "_model_module": "@jupyter-widgets/base",
            "_model_module_version": "1.2.0",
            "_model_name": "LayoutModel",
            "_view_count": null,
            "_view_module": "@jupyter-widgets/base",
            "_view_module_version": "1.2.0",
            "_view_name": "LayoutView",
            "align_content": null,
            "align_items": null,
            "align_self": null,
            "border": null,
            "bottom": null,
            "display": null,
            "flex": null,
            "flex_flow": null,
            "grid_area": null,
            "grid_auto_columns": null,
            "grid_auto_flow": null,
            "grid_auto_rows": null,
            "grid_column": null,
            "grid_gap": null,
            "grid_row": null,
            "grid_template_areas": null,
            "grid_template_columns": null,
            "grid_template_rows": null,
            "height": null,
            "justify_content": null,
            "justify_items": null,
            "left": null,
            "margin": null,
            "max_height": null,
            "max_width": null,
            "min_height": null,
            "min_width": null,
            "object_fit": null,
            "object_position": null,
            "order": null,
            "overflow": null,
            "overflow_x": null,
            "overflow_y": null,
            "padding": null,
            "right": null,
            "top": null,
            "visibility": null,
            "width": null
          }
        },
        "9f13bc81b4bc4ed186ba21e4cc607752": {
          "model_module": "@jupyter-widgets/controls",
          "model_name": "DescriptionStyleModel",
          "model_module_version": "1.5.0",
          "state": {
            "_model_module": "@jupyter-widgets/controls",
            "_model_module_version": "1.5.0",
            "_model_name": "DescriptionStyleModel",
            "_view_count": null,
            "_view_module": "@jupyter-widgets/base",
            "_view_module_version": "1.2.0",
            "_view_name": "StyleView",
            "description_width": ""
          }
        },
        "5a9af2b837b1416e8abadd10d24176ae": {
          "model_module": "@jupyter-widgets/base",
          "model_name": "LayoutModel",
          "model_module_version": "1.2.0",
          "state": {
            "_model_module": "@jupyter-widgets/base",
            "_model_module_version": "1.2.0",
            "_model_name": "LayoutModel",
            "_view_count": null,
            "_view_module": "@jupyter-widgets/base",
            "_view_module_version": "1.2.0",
            "_view_name": "LayoutView",
            "align_content": null,
            "align_items": null,
            "align_self": null,
            "border": null,
            "bottom": null,
            "display": null,
            "flex": null,
            "flex_flow": null,
            "grid_area": null,
            "grid_auto_columns": null,
            "grid_auto_flow": null,
            "grid_auto_rows": null,
            "grid_column": null,
            "grid_gap": null,
            "grid_row": null,
            "grid_template_areas": null,
            "grid_template_columns": null,
            "grid_template_rows": null,
            "height": null,
            "justify_content": null,
            "justify_items": null,
            "left": null,
            "margin": null,
            "max_height": null,
            "max_width": null,
            "min_height": null,
            "min_width": null,
            "object_fit": null,
            "object_position": null,
            "order": null,
            "overflow": null,
            "overflow_x": null,
            "overflow_y": null,
            "padding": null,
            "right": null,
            "top": null,
            "visibility": null,
            "width": null
          }
        },
        "41b395bdf1214f92acc3b3b487f9f392": {
          "model_module": "@jupyter-widgets/controls",
          "model_name": "ProgressStyleModel",
          "model_module_version": "1.5.0",
          "state": {
            "_model_module": "@jupyter-widgets/controls",
            "_model_module_version": "1.5.0",
            "_model_name": "ProgressStyleModel",
            "_view_count": null,
            "_view_module": "@jupyter-widgets/base",
            "_view_module_version": "1.2.0",
            "_view_name": "StyleView",
            "bar_color": null,
            "description_width": ""
          }
        },
        "65ca33ef26204fa4afcbead726c7c3d5": {
          "model_module": "@jupyter-widgets/base",
          "model_name": "LayoutModel",
          "model_module_version": "1.2.0",
          "state": {
            "_model_module": "@jupyter-widgets/base",
            "_model_module_version": "1.2.0",
            "_model_name": "LayoutModel",
            "_view_count": null,
            "_view_module": "@jupyter-widgets/base",
            "_view_module_version": "1.2.0",
            "_view_name": "LayoutView",
            "align_content": null,
            "align_items": null,
            "align_self": null,
            "border": null,
            "bottom": null,
            "display": null,
            "flex": null,
            "flex_flow": null,
            "grid_area": null,
            "grid_auto_columns": null,
            "grid_auto_flow": null,
            "grid_auto_rows": null,
            "grid_column": null,
            "grid_gap": null,
            "grid_row": null,
            "grid_template_areas": null,
            "grid_template_columns": null,
            "grid_template_rows": null,
            "height": null,
            "justify_content": null,
            "justify_items": null,
            "left": null,
            "margin": null,
            "max_height": null,
            "max_width": null,
            "min_height": null,
            "min_width": null,
            "object_fit": null,
            "object_position": null,
            "order": null,
            "overflow": null,
            "overflow_x": null,
            "overflow_y": null,
            "padding": null,
            "right": null,
            "top": null,
            "visibility": null,
            "width": null
          }
        },
        "200e27f0fd8b4a60a57a172a9638bb4d": {
          "model_module": "@jupyter-widgets/controls",
          "model_name": "DescriptionStyleModel",
          "model_module_version": "1.5.0",
          "state": {
            "_model_module": "@jupyter-widgets/controls",
            "_model_module_version": "1.5.0",
            "_model_name": "DescriptionStyleModel",
            "_view_count": null,
            "_view_module": "@jupyter-widgets/base",
            "_view_module_version": "1.2.0",
            "_view_name": "StyleView",
            "description_width": ""
          }
        },
        "1918e20809a1418e831a7fc8152836aa": {
          "model_module": "@jupyter-widgets/controls",
          "model_name": "HBoxModel",
          "model_module_version": "1.5.0",
          "state": {
            "_dom_classes": [],
            "_model_module": "@jupyter-widgets/controls",
            "_model_module_version": "1.5.0",
            "_model_name": "HBoxModel",
            "_view_count": null,
            "_view_module": "@jupyter-widgets/controls",
            "_view_module_version": "1.5.0",
            "_view_name": "HBoxView",
            "box_style": "",
            "children": [
              "IPY_MODEL_b9bdded066ec477a9d1198b5070b94a0",
              "IPY_MODEL_73e53638552242af96c2d73adcd73995",
              "IPY_MODEL_6ee46973a908418f81c2a82a8c9a7afe"
            ],
            "layout": "IPY_MODEL_431309ef6dc449198830322f390c0711"
          }
        },
        "b9bdded066ec477a9d1198b5070b94a0": {
          "model_module": "@jupyter-widgets/controls",
          "model_name": "HTMLModel",
          "model_module_version": "1.5.0",
          "state": {
            "_dom_classes": [],
            "_model_module": "@jupyter-widgets/controls",
            "_model_module_version": "1.5.0",
            "_model_name": "HTMLModel",
            "_view_count": null,
            "_view_module": "@jupyter-widgets/controls",
            "_view_module_version": "1.5.0",
            "_view_name": "HTMLView",
            "description": "",
            "description_tooltip": null,
            "layout": "IPY_MODEL_c3d0a69296ce4d4080d9b9f1528f230e",
            "placeholder": "​",
            "style": "IPY_MODEL_e41e808e179448ad89221922baa7a499",
            "value": "100%"
          }
        },
        "73e53638552242af96c2d73adcd73995": {
          "model_module": "@jupyter-widgets/controls",
          "model_name": "FloatProgressModel",
          "model_module_version": "1.5.0",
          "state": {
            "_dom_classes": [],
            "_model_module": "@jupyter-widgets/controls",
            "_model_module_version": "1.5.0",
            "_model_name": "FloatProgressModel",
            "_view_count": null,
            "_view_module": "@jupyter-widgets/controls",
            "_view_module_version": "1.5.0",
            "_view_name": "ProgressView",
            "bar_style": "success",
            "description": "",
            "description_tooltip": null,
            "layout": "IPY_MODEL_c1392d7fbcef4589beec4031f1d1f106",
            "max": 21642,
            "min": 0,
            "orientation": "horizontal",
            "style": "IPY_MODEL_0e7b66428dbd40ddbc14d4191491dacb",
            "value": 21642
          }
        },
        "6ee46973a908418f81c2a82a8c9a7afe": {
          "model_module": "@jupyter-widgets/controls",
          "model_name": "HTMLModel",
          "model_module_version": "1.5.0",
          "state": {
            "_dom_classes": [],
            "_model_module": "@jupyter-widgets/controls",
            "_model_module_version": "1.5.0",
            "_model_name": "HTMLModel",
            "_view_count": null,
            "_view_module": "@jupyter-widgets/controls",
            "_view_module_version": "1.5.0",
            "_view_name": "HTMLView",
            "description": "",
            "description_tooltip": null,
            "layout": "IPY_MODEL_89bc853c8757433c9630860de4603a23",
            "placeholder": "​",
            "style": "IPY_MODEL_988e2ee5689844d9a6127c288ac6c198",
            "value": " 21642/21642 [00:25&lt;00:00, 1052.18it/s]"
          }
        },
        "431309ef6dc449198830322f390c0711": {
          "model_module": "@jupyter-widgets/base",
          "model_name": "LayoutModel",
          "model_module_version": "1.2.0",
          "state": {
            "_model_module": "@jupyter-widgets/base",
            "_model_module_version": "1.2.0",
            "_model_name": "LayoutModel",
            "_view_count": null,
            "_view_module": "@jupyter-widgets/base",
            "_view_module_version": "1.2.0",
            "_view_name": "LayoutView",
            "align_content": null,
            "align_items": null,
            "align_self": null,
            "border": null,
            "bottom": null,
            "display": null,
            "flex": null,
            "flex_flow": null,
            "grid_area": null,
            "grid_auto_columns": null,
            "grid_auto_flow": null,
            "grid_auto_rows": null,
            "grid_column": null,
            "grid_gap": null,
            "grid_row": null,
            "grid_template_areas": null,
            "grid_template_columns": null,
            "grid_template_rows": null,
            "height": null,
            "justify_content": null,
            "justify_items": null,
            "left": null,
            "margin": null,
            "max_height": null,
            "max_width": null,
            "min_height": null,
            "min_width": null,
            "object_fit": null,
            "object_position": null,
            "order": null,
            "overflow": null,
            "overflow_x": null,
            "overflow_y": null,
            "padding": null,
            "right": null,
            "top": null,
            "visibility": null,
            "width": null
          }
        },
        "c3d0a69296ce4d4080d9b9f1528f230e": {
          "model_module": "@jupyter-widgets/base",
          "model_name": "LayoutModel",
          "model_module_version": "1.2.0",
          "state": {
            "_model_module": "@jupyter-widgets/base",
            "_model_module_version": "1.2.0",
            "_model_name": "LayoutModel",
            "_view_count": null,
            "_view_module": "@jupyter-widgets/base",
            "_view_module_version": "1.2.0",
            "_view_name": "LayoutView",
            "align_content": null,
            "align_items": null,
            "align_self": null,
            "border": null,
            "bottom": null,
            "display": null,
            "flex": null,
            "flex_flow": null,
            "grid_area": null,
            "grid_auto_columns": null,
            "grid_auto_flow": null,
            "grid_auto_rows": null,
            "grid_column": null,
            "grid_gap": null,
            "grid_row": null,
            "grid_template_areas": null,
            "grid_template_columns": null,
            "grid_template_rows": null,
            "height": null,
            "justify_content": null,
            "justify_items": null,
            "left": null,
            "margin": null,
            "max_height": null,
            "max_width": null,
            "min_height": null,
            "min_width": null,
            "object_fit": null,
            "object_position": null,
            "order": null,
            "overflow": null,
            "overflow_x": null,
            "overflow_y": null,
            "padding": null,
            "right": null,
            "top": null,
            "visibility": null,
            "width": null
          }
        },
        "e41e808e179448ad89221922baa7a499": {
          "model_module": "@jupyter-widgets/controls",
          "model_name": "DescriptionStyleModel",
          "model_module_version": "1.5.0",
          "state": {
            "_model_module": "@jupyter-widgets/controls",
            "_model_module_version": "1.5.0",
            "_model_name": "DescriptionStyleModel",
            "_view_count": null,
            "_view_module": "@jupyter-widgets/base",
            "_view_module_version": "1.2.0",
            "_view_name": "StyleView",
            "description_width": ""
          }
        },
        "c1392d7fbcef4589beec4031f1d1f106": {
          "model_module": "@jupyter-widgets/base",
          "model_name": "LayoutModel",
          "model_module_version": "1.2.0",
          "state": {
            "_model_module": "@jupyter-widgets/base",
            "_model_module_version": "1.2.0",
            "_model_name": "LayoutModel",
            "_view_count": null,
            "_view_module": "@jupyter-widgets/base",
            "_view_module_version": "1.2.0",
            "_view_name": "LayoutView",
            "align_content": null,
            "align_items": null,
            "align_self": null,
            "border": null,
            "bottom": null,
            "display": null,
            "flex": null,
            "flex_flow": null,
            "grid_area": null,
            "grid_auto_columns": null,
            "grid_auto_flow": null,
            "grid_auto_rows": null,
            "grid_column": null,
            "grid_gap": null,
            "grid_row": null,
            "grid_template_areas": null,
            "grid_template_columns": null,
            "grid_template_rows": null,
            "height": null,
            "justify_content": null,
            "justify_items": null,
            "left": null,
            "margin": null,
            "max_height": null,
            "max_width": null,
            "min_height": null,
            "min_width": null,
            "object_fit": null,
            "object_position": null,
            "order": null,
            "overflow": null,
            "overflow_x": null,
            "overflow_y": null,
            "padding": null,
            "right": null,
            "top": null,
            "visibility": null,
            "width": null
          }
        },
        "0e7b66428dbd40ddbc14d4191491dacb": {
          "model_module": "@jupyter-widgets/controls",
          "model_name": "ProgressStyleModel",
          "model_module_version": "1.5.0",
          "state": {
            "_model_module": "@jupyter-widgets/controls",
            "_model_module_version": "1.5.0",
            "_model_name": "ProgressStyleModel",
            "_view_count": null,
            "_view_module": "@jupyter-widgets/base",
            "_view_module_version": "1.2.0",
            "_view_name": "StyleView",
            "bar_color": null,
            "description_width": ""
          }
        },
        "89bc853c8757433c9630860de4603a23": {
          "model_module": "@jupyter-widgets/base",
          "model_name": "LayoutModel",
          "model_module_version": "1.2.0",
          "state": {
            "_model_module": "@jupyter-widgets/base",
            "_model_module_version": "1.2.0",
            "_model_name": "LayoutModel",
            "_view_count": null,
            "_view_module": "@jupyter-widgets/base",
            "_view_module_version": "1.2.0",
            "_view_name": "LayoutView",
            "align_content": null,
            "align_items": null,
            "align_self": null,
            "border": null,
            "bottom": null,
            "display": null,
            "flex": null,
            "flex_flow": null,
            "grid_area": null,
            "grid_auto_columns": null,
            "grid_auto_flow": null,
            "grid_auto_rows": null,
            "grid_column": null,
            "grid_gap": null,
            "grid_row": null,
            "grid_template_areas": null,
            "grid_template_columns": null,
            "grid_template_rows": null,
            "height": null,
            "justify_content": null,
            "justify_items": null,
            "left": null,
            "margin": null,
            "max_height": null,
            "max_width": null,
            "min_height": null,
            "min_width": null,
            "object_fit": null,
            "object_position": null,
            "order": null,
            "overflow": null,
            "overflow_x": null,
            "overflow_y": null,
            "padding": null,
            "right": null,
            "top": null,
            "visibility": null,
            "width": null
          }
        },
        "988e2ee5689844d9a6127c288ac6c198": {
          "model_module": "@jupyter-widgets/controls",
          "model_name": "DescriptionStyleModel",
          "model_module_version": "1.5.0",
          "state": {
            "_model_module": "@jupyter-widgets/controls",
            "_model_module_version": "1.5.0",
            "_model_name": "DescriptionStyleModel",
            "_view_count": null,
            "_view_module": "@jupyter-widgets/base",
            "_view_module_version": "1.2.0",
            "_view_name": "StyleView",
            "description_width": ""
          }
        },
        "628a708eacfe4dd3b4fa9d3977815b57": {
          "model_module": "@jupyter-widgets/controls",
          "model_name": "HBoxModel",
          "model_module_version": "1.5.0",
          "state": {
            "_dom_classes": [],
            "_model_module": "@jupyter-widgets/controls",
            "_model_module_version": "1.5.0",
            "_model_name": "HBoxModel",
            "_view_count": null,
            "_view_module": "@jupyter-widgets/controls",
            "_view_module_version": "1.5.0",
            "_view_name": "HBoxView",
            "box_style": "",
            "children": [
              "IPY_MODEL_6c053a2025014424a1654dbb84ebaf00",
              "IPY_MODEL_994d4a2b4c69433493d0476e08fa9e86",
              "IPY_MODEL_ad70310aad3b4ba3bed9f4debce31d94"
            ],
            "layout": "IPY_MODEL_a58ac3c1663c45c6830da5c3301aa506"
          }
        },
        "6c053a2025014424a1654dbb84ebaf00": {
          "model_module": "@jupyter-widgets/controls",
          "model_name": "HTMLModel",
          "model_module_version": "1.5.0",
          "state": {
            "_dom_classes": [],
            "_model_module": "@jupyter-widgets/controls",
            "_model_module_version": "1.5.0",
            "_model_name": "HTMLModel",
            "_view_count": null,
            "_view_module": "@jupyter-widgets/controls",
            "_view_module_version": "1.5.0",
            "_view_name": "HTMLView",
            "description": "",
            "description_tooltip": null,
            "layout": "IPY_MODEL_ed4320294fb943c2b76487119b83332f",
            "placeholder": "​",
            "style": "IPY_MODEL_c506541280734641ae65baa574a7d899",
            "value": "(…)-distilled-600M/resolve/main/config.json: 100%"
          }
        },
        "994d4a2b4c69433493d0476e08fa9e86": {
          "model_module": "@jupyter-widgets/controls",
          "model_name": "FloatProgressModel",
          "model_module_version": "1.5.0",
          "state": {
            "_dom_classes": [],
            "_model_module": "@jupyter-widgets/controls",
            "_model_module_version": "1.5.0",
            "_model_name": "FloatProgressModel",
            "_view_count": null,
            "_view_module": "@jupyter-widgets/controls",
            "_view_module_version": "1.5.0",
            "_view_name": "ProgressView",
            "bar_style": "success",
            "description": "",
            "description_tooltip": null,
            "layout": "IPY_MODEL_6a814be1c6e24e3fb6b70d43280eff32",
            "max": 846,
            "min": 0,
            "orientation": "horizontal",
            "style": "IPY_MODEL_f69b63d230f54a8297ef46ec4e766e41",
            "value": 846
          }
        },
        "ad70310aad3b4ba3bed9f4debce31d94": {
          "model_module": "@jupyter-widgets/controls",
          "model_name": "HTMLModel",
          "model_module_version": "1.5.0",
          "state": {
            "_dom_classes": [],
            "_model_module": "@jupyter-widgets/controls",
            "_model_module_version": "1.5.0",
            "_model_name": "HTMLModel",
            "_view_count": null,
            "_view_module": "@jupyter-widgets/controls",
            "_view_module_version": "1.5.0",
            "_view_name": "HTMLView",
            "description": "",
            "description_tooltip": null,
            "layout": "IPY_MODEL_208d93238b77423f8716c08c93a3fcbe",
            "placeholder": "​",
            "style": "IPY_MODEL_938ad09c375042e7bd8e5d68429ed575",
            "value": " 846/846 [00:00&lt;00:00, 28.6kB/s]"
          }
        },
        "a58ac3c1663c45c6830da5c3301aa506": {
          "model_module": "@jupyter-widgets/base",
          "model_name": "LayoutModel",
          "model_module_version": "1.2.0",
          "state": {
            "_model_module": "@jupyter-widgets/base",
            "_model_module_version": "1.2.0",
            "_model_name": "LayoutModel",
            "_view_count": null,
            "_view_module": "@jupyter-widgets/base",
            "_view_module_version": "1.2.0",
            "_view_name": "LayoutView",
            "align_content": null,
            "align_items": null,
            "align_self": null,
            "border": null,
            "bottom": null,
            "display": null,
            "flex": null,
            "flex_flow": null,
            "grid_area": null,
            "grid_auto_columns": null,
            "grid_auto_flow": null,
            "grid_auto_rows": null,
            "grid_column": null,
            "grid_gap": null,
            "grid_row": null,
            "grid_template_areas": null,
            "grid_template_columns": null,
            "grid_template_rows": null,
            "height": null,
            "justify_content": null,
            "justify_items": null,
            "left": null,
            "margin": null,
            "max_height": null,
            "max_width": null,
            "min_height": null,
            "min_width": null,
            "object_fit": null,
            "object_position": null,
            "order": null,
            "overflow": null,
            "overflow_x": null,
            "overflow_y": null,
            "padding": null,
            "right": null,
            "top": null,
            "visibility": null,
            "width": null
          }
        },
        "ed4320294fb943c2b76487119b83332f": {
          "model_module": "@jupyter-widgets/base",
          "model_name": "LayoutModel",
          "model_module_version": "1.2.0",
          "state": {
            "_model_module": "@jupyter-widgets/base",
            "_model_module_version": "1.2.0",
            "_model_name": "LayoutModel",
            "_view_count": null,
            "_view_module": "@jupyter-widgets/base",
            "_view_module_version": "1.2.0",
            "_view_name": "LayoutView",
            "align_content": null,
            "align_items": null,
            "align_self": null,
            "border": null,
            "bottom": null,
            "display": null,
            "flex": null,
            "flex_flow": null,
            "grid_area": null,
            "grid_auto_columns": null,
            "grid_auto_flow": null,
            "grid_auto_rows": null,
            "grid_column": null,
            "grid_gap": null,
            "grid_row": null,
            "grid_template_areas": null,
            "grid_template_columns": null,
            "grid_template_rows": null,
            "height": null,
            "justify_content": null,
            "justify_items": null,
            "left": null,
            "margin": null,
            "max_height": null,
            "max_width": null,
            "min_height": null,
            "min_width": null,
            "object_fit": null,
            "object_position": null,
            "order": null,
            "overflow": null,
            "overflow_x": null,
            "overflow_y": null,
            "padding": null,
            "right": null,
            "top": null,
            "visibility": null,
            "width": null
          }
        },
        "c506541280734641ae65baa574a7d899": {
          "model_module": "@jupyter-widgets/controls",
          "model_name": "DescriptionStyleModel",
          "model_module_version": "1.5.0",
          "state": {
            "_model_module": "@jupyter-widgets/controls",
            "_model_module_version": "1.5.0",
            "_model_name": "DescriptionStyleModel",
            "_view_count": null,
            "_view_module": "@jupyter-widgets/base",
            "_view_module_version": "1.2.0",
            "_view_name": "StyleView",
            "description_width": ""
          }
        },
        "6a814be1c6e24e3fb6b70d43280eff32": {
          "model_module": "@jupyter-widgets/base",
          "model_name": "LayoutModel",
          "model_module_version": "1.2.0",
          "state": {
            "_model_module": "@jupyter-widgets/base",
            "_model_module_version": "1.2.0",
            "_model_name": "LayoutModel",
            "_view_count": null,
            "_view_module": "@jupyter-widgets/base",
            "_view_module_version": "1.2.0",
            "_view_name": "LayoutView",
            "align_content": null,
            "align_items": null,
            "align_self": null,
            "border": null,
            "bottom": null,
            "display": null,
            "flex": null,
            "flex_flow": null,
            "grid_area": null,
            "grid_auto_columns": null,
            "grid_auto_flow": null,
            "grid_auto_rows": null,
            "grid_column": null,
            "grid_gap": null,
            "grid_row": null,
            "grid_template_areas": null,
            "grid_template_columns": null,
            "grid_template_rows": null,
            "height": null,
            "justify_content": null,
            "justify_items": null,
            "left": null,
            "margin": null,
            "max_height": null,
            "max_width": null,
            "min_height": null,
            "min_width": null,
            "object_fit": null,
            "object_position": null,
            "order": null,
            "overflow": null,
            "overflow_x": null,
            "overflow_y": null,
            "padding": null,
            "right": null,
            "top": null,
            "visibility": null,
            "width": null
          }
        },
        "f69b63d230f54a8297ef46ec4e766e41": {
          "model_module": "@jupyter-widgets/controls",
          "model_name": "ProgressStyleModel",
          "model_module_version": "1.5.0",
          "state": {
            "_model_module": "@jupyter-widgets/controls",
            "_model_module_version": "1.5.0",
            "_model_name": "ProgressStyleModel",
            "_view_count": null,
            "_view_module": "@jupyter-widgets/base",
            "_view_module_version": "1.2.0",
            "_view_name": "StyleView",
            "bar_color": null,
            "description_width": ""
          }
        },
        "208d93238b77423f8716c08c93a3fcbe": {
          "model_module": "@jupyter-widgets/base",
          "model_name": "LayoutModel",
          "model_module_version": "1.2.0",
          "state": {
            "_model_module": "@jupyter-widgets/base",
            "_model_module_version": "1.2.0",
            "_model_name": "LayoutModel",
            "_view_count": null,
            "_view_module": "@jupyter-widgets/base",
            "_view_module_version": "1.2.0",
            "_view_name": "LayoutView",
            "align_content": null,
            "align_items": null,
            "align_self": null,
            "border": null,
            "bottom": null,
            "display": null,
            "flex": null,
            "flex_flow": null,
            "grid_area": null,
            "grid_auto_columns": null,
            "grid_auto_flow": null,
            "grid_auto_rows": null,
            "grid_column": null,
            "grid_gap": null,
            "grid_row": null,
            "grid_template_areas": null,
            "grid_template_columns": null,
            "grid_template_rows": null,
            "height": null,
            "justify_content": null,
            "justify_items": null,
            "left": null,
            "margin": null,
            "max_height": null,
            "max_width": null,
            "min_height": null,
            "min_width": null,
            "object_fit": null,
            "object_position": null,
            "order": null,
            "overflow": null,
            "overflow_x": null,
            "overflow_y": null,
            "padding": null,
            "right": null,
            "top": null,
            "visibility": null,
            "width": null
          }
        },
        "938ad09c375042e7bd8e5d68429ed575": {
          "model_module": "@jupyter-widgets/controls",
          "model_name": "DescriptionStyleModel",
          "model_module_version": "1.5.0",
          "state": {
            "_model_module": "@jupyter-widgets/controls",
            "_model_module_version": "1.5.0",
            "_model_name": "DescriptionStyleModel",
            "_view_count": null,
            "_view_module": "@jupyter-widgets/base",
            "_view_module_version": "1.2.0",
            "_view_name": "StyleView",
            "description_width": ""
          }
        },
        "7c3e532a9427495ebdaf1fa157b18d77": {
          "model_module": "@jupyter-widgets/controls",
          "model_name": "HBoxModel",
          "model_module_version": "1.5.0",
          "state": {
            "_dom_classes": [],
            "_model_module": "@jupyter-widgets/controls",
            "_model_module_version": "1.5.0",
            "_model_name": "HBoxModel",
            "_view_count": null,
            "_view_module": "@jupyter-widgets/controls",
            "_view_module_version": "1.5.0",
            "_view_name": "HBoxView",
            "box_style": "",
            "children": [
              "IPY_MODEL_599e137698134f6caac6b738e7cf6cc3",
              "IPY_MODEL_4b0ae22ef4f14b0a829a60dd670c44b8",
              "IPY_MODEL_d3d078c57e5c4c0db968a3e9d1d89a45"
            ],
            "layout": "IPY_MODEL_e173571c3d0947ef952a0688064e277c"
          }
        },
        "599e137698134f6caac6b738e7cf6cc3": {
          "model_module": "@jupyter-widgets/controls",
          "model_name": "HTMLModel",
          "model_module_version": "1.5.0",
          "state": {
            "_dom_classes": [],
            "_model_module": "@jupyter-widgets/controls",
            "_model_module_version": "1.5.0",
            "_model_name": "HTMLModel",
            "_view_count": null,
            "_view_module": "@jupyter-widgets/controls",
            "_view_module_version": "1.5.0",
            "_view_name": "HTMLView",
            "description": "",
            "description_tooltip": null,
            "layout": "IPY_MODEL_097f5d1651a5413583c8bd54946ac966",
            "placeholder": "​",
            "style": "IPY_MODEL_dcc342437c474aeb88c63d4d1cca649f",
            "value": "pytorch_model.bin: 100%"
          }
        },
        "4b0ae22ef4f14b0a829a60dd670c44b8": {
          "model_module": "@jupyter-widgets/controls",
          "model_name": "FloatProgressModel",
          "model_module_version": "1.5.0",
          "state": {
            "_dom_classes": [],
            "_model_module": "@jupyter-widgets/controls",
            "_model_module_version": "1.5.0",
            "_model_name": "FloatProgressModel",
            "_view_count": null,
            "_view_module": "@jupyter-widgets/controls",
            "_view_module_version": "1.5.0",
            "_view_name": "ProgressView",
            "bar_style": "success",
            "description": "",
            "description_tooltip": null,
            "layout": "IPY_MODEL_6bf2d1a965144a43b2611f60e6ef7f9b",
            "max": 2460457927,
            "min": 0,
            "orientation": "horizontal",
            "style": "IPY_MODEL_3aee3d7ef1134364ae4580f6de55d873",
            "value": 2460457927
          }
        },
        "d3d078c57e5c4c0db968a3e9d1d89a45": {
          "model_module": "@jupyter-widgets/controls",
          "model_name": "HTMLModel",
          "model_module_version": "1.5.0",
          "state": {
            "_dom_classes": [],
            "_model_module": "@jupyter-widgets/controls",
            "_model_module_version": "1.5.0",
            "_model_name": "HTMLModel",
            "_view_count": null,
            "_view_module": "@jupyter-widgets/controls",
            "_view_module_version": "1.5.0",
            "_view_name": "HTMLView",
            "description": "",
            "description_tooltip": null,
            "layout": "IPY_MODEL_fb8553cb9af14432a719ee33e2ddd478",
            "placeholder": "​",
            "style": "IPY_MODEL_1a2bf3c86a4245788f5e0dffcdea7929",
            "value": " 2.46G/2.46G [00:30&lt;00:00, 123MB/s]"
          }
        },
        "e173571c3d0947ef952a0688064e277c": {
          "model_module": "@jupyter-widgets/base",
          "model_name": "LayoutModel",
          "model_module_version": "1.2.0",
          "state": {
            "_model_module": "@jupyter-widgets/base",
            "_model_module_version": "1.2.0",
            "_model_name": "LayoutModel",
            "_view_count": null,
            "_view_module": "@jupyter-widgets/base",
            "_view_module_version": "1.2.0",
            "_view_name": "LayoutView",
            "align_content": null,
            "align_items": null,
            "align_self": null,
            "border": null,
            "bottom": null,
            "display": null,
            "flex": null,
            "flex_flow": null,
            "grid_area": null,
            "grid_auto_columns": null,
            "grid_auto_flow": null,
            "grid_auto_rows": null,
            "grid_column": null,
            "grid_gap": null,
            "grid_row": null,
            "grid_template_areas": null,
            "grid_template_columns": null,
            "grid_template_rows": null,
            "height": null,
            "justify_content": null,
            "justify_items": null,
            "left": null,
            "margin": null,
            "max_height": null,
            "max_width": null,
            "min_height": null,
            "min_width": null,
            "object_fit": null,
            "object_position": null,
            "order": null,
            "overflow": null,
            "overflow_x": null,
            "overflow_y": null,
            "padding": null,
            "right": null,
            "top": null,
            "visibility": null,
            "width": null
          }
        },
        "097f5d1651a5413583c8bd54946ac966": {
          "model_module": "@jupyter-widgets/base",
          "model_name": "LayoutModel",
          "model_module_version": "1.2.0",
          "state": {
            "_model_module": "@jupyter-widgets/base",
            "_model_module_version": "1.2.0",
            "_model_name": "LayoutModel",
            "_view_count": null,
            "_view_module": "@jupyter-widgets/base",
            "_view_module_version": "1.2.0",
            "_view_name": "LayoutView",
            "align_content": null,
            "align_items": null,
            "align_self": null,
            "border": null,
            "bottom": null,
            "display": null,
            "flex": null,
            "flex_flow": null,
            "grid_area": null,
            "grid_auto_columns": null,
            "grid_auto_flow": null,
            "grid_auto_rows": null,
            "grid_column": null,
            "grid_gap": null,
            "grid_row": null,
            "grid_template_areas": null,
            "grid_template_columns": null,
            "grid_template_rows": null,
            "height": null,
            "justify_content": null,
            "justify_items": null,
            "left": null,
            "margin": null,
            "max_height": null,
            "max_width": null,
            "min_height": null,
            "min_width": null,
            "object_fit": null,
            "object_position": null,
            "order": null,
            "overflow": null,
            "overflow_x": null,
            "overflow_y": null,
            "padding": null,
            "right": null,
            "top": null,
            "visibility": null,
            "width": null
          }
        },
        "dcc342437c474aeb88c63d4d1cca649f": {
          "model_module": "@jupyter-widgets/controls",
          "model_name": "DescriptionStyleModel",
          "model_module_version": "1.5.0",
          "state": {
            "_model_module": "@jupyter-widgets/controls",
            "_model_module_version": "1.5.0",
            "_model_name": "DescriptionStyleModel",
            "_view_count": null,
            "_view_module": "@jupyter-widgets/base",
            "_view_module_version": "1.2.0",
            "_view_name": "StyleView",
            "description_width": ""
          }
        },
        "6bf2d1a965144a43b2611f60e6ef7f9b": {
          "model_module": "@jupyter-widgets/base",
          "model_name": "LayoutModel",
          "model_module_version": "1.2.0",
          "state": {
            "_model_module": "@jupyter-widgets/base",
            "_model_module_version": "1.2.0",
            "_model_name": "LayoutModel",
            "_view_count": null,
            "_view_module": "@jupyter-widgets/base",
            "_view_module_version": "1.2.0",
            "_view_name": "LayoutView",
            "align_content": null,
            "align_items": null,
            "align_self": null,
            "border": null,
            "bottom": null,
            "display": null,
            "flex": null,
            "flex_flow": null,
            "grid_area": null,
            "grid_auto_columns": null,
            "grid_auto_flow": null,
            "grid_auto_rows": null,
            "grid_column": null,
            "grid_gap": null,
            "grid_row": null,
            "grid_template_areas": null,
            "grid_template_columns": null,
            "grid_template_rows": null,
            "height": null,
            "justify_content": null,
            "justify_items": null,
            "left": null,
            "margin": null,
            "max_height": null,
            "max_width": null,
            "min_height": null,
            "min_width": null,
            "object_fit": null,
            "object_position": null,
            "order": null,
            "overflow": null,
            "overflow_x": null,
            "overflow_y": null,
            "padding": null,
            "right": null,
            "top": null,
            "visibility": null,
            "width": null
          }
        },
        "3aee3d7ef1134364ae4580f6de55d873": {
          "model_module": "@jupyter-widgets/controls",
          "model_name": "ProgressStyleModel",
          "model_module_version": "1.5.0",
          "state": {
            "_model_module": "@jupyter-widgets/controls",
            "_model_module_version": "1.5.0",
            "_model_name": "ProgressStyleModel",
            "_view_count": null,
            "_view_module": "@jupyter-widgets/base",
            "_view_module_version": "1.2.0",
            "_view_name": "StyleView",
            "bar_color": null,
            "description_width": ""
          }
        },
        "fb8553cb9af14432a719ee33e2ddd478": {
          "model_module": "@jupyter-widgets/base",
          "model_name": "LayoutModel",
          "model_module_version": "1.2.0",
          "state": {
            "_model_module": "@jupyter-widgets/base",
            "_model_module_version": "1.2.0",
            "_model_name": "LayoutModel",
            "_view_count": null,
            "_view_module": "@jupyter-widgets/base",
            "_view_module_version": "1.2.0",
            "_view_name": "LayoutView",
            "align_content": null,
            "align_items": null,
            "align_self": null,
            "border": null,
            "bottom": null,
            "display": null,
            "flex": null,
            "flex_flow": null,
            "grid_area": null,
            "grid_auto_columns": null,
            "grid_auto_flow": null,
            "grid_auto_rows": null,
            "grid_column": null,
            "grid_gap": null,
            "grid_row": null,
            "grid_template_areas": null,
            "grid_template_columns": null,
            "grid_template_rows": null,
            "height": null,
            "justify_content": null,
            "justify_items": null,
            "left": null,
            "margin": null,
            "max_height": null,
            "max_width": null,
            "min_height": null,
            "min_width": null,
            "object_fit": null,
            "object_position": null,
            "order": null,
            "overflow": null,
            "overflow_x": null,
            "overflow_y": null,
            "padding": null,
            "right": null,
            "top": null,
            "visibility": null,
            "width": null
          }
        },
        "1a2bf3c86a4245788f5e0dffcdea7929": {
          "model_module": "@jupyter-widgets/controls",
          "model_name": "DescriptionStyleModel",
          "model_module_version": "1.5.0",
          "state": {
            "_model_module": "@jupyter-widgets/controls",
            "_model_module_version": "1.5.0",
            "_model_name": "DescriptionStyleModel",
            "_view_count": null,
            "_view_module": "@jupyter-widgets/base",
            "_view_module_version": "1.2.0",
            "_view_name": "StyleView",
            "description_width": ""
          }
        },
        "1679ab6753be4001ad0b354b8d259c53": {
          "model_module": "@jupyter-widgets/controls",
          "model_name": "HBoxModel",
          "model_module_version": "1.5.0",
          "state": {
            "_dom_classes": [],
            "_model_module": "@jupyter-widgets/controls",
            "_model_module_version": "1.5.0",
            "_model_name": "HBoxModel",
            "_view_count": null,
            "_view_module": "@jupyter-widgets/controls",
            "_view_module_version": "1.5.0",
            "_view_name": "HBoxView",
            "box_style": "",
            "children": [
              "IPY_MODEL_83674799734f45779283114e42d572b0",
              "IPY_MODEL_a538194a26be4d08828d696e8c0863fd",
              "IPY_MODEL_c5faba50387e4003a79e0f2feb78ac60"
            ],
            "layout": "IPY_MODEL_c859942972e74cce8eaba2120a76e8d4"
          }
        },
        "83674799734f45779283114e42d572b0": {
          "model_module": "@jupyter-widgets/controls",
          "model_name": "HTMLModel",
          "model_module_version": "1.5.0",
          "state": {
            "_dom_classes": [],
            "_model_module": "@jupyter-widgets/controls",
            "_model_module_version": "1.5.0",
            "_model_name": "HTMLModel",
            "_view_count": null,
            "_view_module": "@jupyter-widgets/controls",
            "_view_module_version": "1.5.0",
            "_view_name": "HTMLView",
            "description": "",
            "description_tooltip": null,
            "layout": "IPY_MODEL_bcdd4dd66f1a44129b8fea41ce4a9174",
            "placeholder": "​",
            "style": "IPY_MODEL_932c8aa2d3f6487cb1f4498137b7f346",
            "value": "(…)600M/resolve/main/generation_config.json: 100%"
          }
        },
        "a538194a26be4d08828d696e8c0863fd": {
          "model_module": "@jupyter-widgets/controls",
          "model_name": "FloatProgressModel",
          "model_module_version": "1.5.0",
          "state": {
            "_dom_classes": [],
            "_model_module": "@jupyter-widgets/controls",
            "_model_module_version": "1.5.0",
            "_model_name": "FloatProgressModel",
            "_view_count": null,
            "_view_module": "@jupyter-widgets/controls",
            "_view_module_version": "1.5.0",
            "_view_name": "ProgressView",
            "bar_style": "success",
            "description": "",
            "description_tooltip": null,
            "layout": "IPY_MODEL_72d5668c3888498e965877edd214c4b5",
            "max": 189,
            "min": 0,
            "orientation": "horizontal",
            "style": "IPY_MODEL_9b04640ebaa44128bb4538c26c342d49",
            "value": 189
          }
        },
        "c5faba50387e4003a79e0f2feb78ac60": {
          "model_module": "@jupyter-widgets/controls",
          "model_name": "HTMLModel",
          "model_module_version": "1.5.0",
          "state": {
            "_dom_classes": [],
            "_model_module": "@jupyter-widgets/controls",
            "_model_module_version": "1.5.0",
            "_model_name": "HTMLModel",
            "_view_count": null,
            "_view_module": "@jupyter-widgets/controls",
            "_view_module_version": "1.5.0",
            "_view_name": "HTMLView",
            "description": "",
            "description_tooltip": null,
            "layout": "IPY_MODEL_0b906618412a4000bb3b71083a686169",
            "placeholder": "​",
            "style": "IPY_MODEL_7079f058c8a443559808518a0e52ec29",
            "value": " 189/189 [00:00&lt;00:00, 5.36kB/s]"
          }
        },
        "c859942972e74cce8eaba2120a76e8d4": {
          "model_module": "@jupyter-widgets/base",
          "model_name": "LayoutModel",
          "model_module_version": "1.2.0",
          "state": {
            "_model_module": "@jupyter-widgets/base",
            "_model_module_version": "1.2.0",
            "_model_name": "LayoutModel",
            "_view_count": null,
            "_view_module": "@jupyter-widgets/base",
            "_view_module_version": "1.2.0",
            "_view_name": "LayoutView",
            "align_content": null,
            "align_items": null,
            "align_self": null,
            "border": null,
            "bottom": null,
            "display": null,
            "flex": null,
            "flex_flow": null,
            "grid_area": null,
            "grid_auto_columns": null,
            "grid_auto_flow": null,
            "grid_auto_rows": null,
            "grid_column": null,
            "grid_gap": null,
            "grid_row": null,
            "grid_template_areas": null,
            "grid_template_columns": null,
            "grid_template_rows": null,
            "height": null,
            "justify_content": null,
            "justify_items": null,
            "left": null,
            "margin": null,
            "max_height": null,
            "max_width": null,
            "min_height": null,
            "min_width": null,
            "object_fit": null,
            "object_position": null,
            "order": null,
            "overflow": null,
            "overflow_x": null,
            "overflow_y": null,
            "padding": null,
            "right": null,
            "top": null,
            "visibility": null,
            "width": null
          }
        },
        "bcdd4dd66f1a44129b8fea41ce4a9174": {
          "model_module": "@jupyter-widgets/base",
          "model_name": "LayoutModel",
          "model_module_version": "1.2.0",
          "state": {
            "_model_module": "@jupyter-widgets/base",
            "_model_module_version": "1.2.0",
            "_model_name": "LayoutModel",
            "_view_count": null,
            "_view_module": "@jupyter-widgets/base",
            "_view_module_version": "1.2.0",
            "_view_name": "LayoutView",
            "align_content": null,
            "align_items": null,
            "align_self": null,
            "border": null,
            "bottom": null,
            "display": null,
            "flex": null,
            "flex_flow": null,
            "grid_area": null,
            "grid_auto_columns": null,
            "grid_auto_flow": null,
            "grid_auto_rows": null,
            "grid_column": null,
            "grid_gap": null,
            "grid_row": null,
            "grid_template_areas": null,
            "grid_template_columns": null,
            "grid_template_rows": null,
            "height": null,
            "justify_content": null,
            "justify_items": null,
            "left": null,
            "margin": null,
            "max_height": null,
            "max_width": null,
            "min_height": null,
            "min_width": null,
            "object_fit": null,
            "object_position": null,
            "order": null,
            "overflow": null,
            "overflow_x": null,
            "overflow_y": null,
            "padding": null,
            "right": null,
            "top": null,
            "visibility": null,
            "width": null
          }
        },
        "932c8aa2d3f6487cb1f4498137b7f346": {
          "model_module": "@jupyter-widgets/controls",
          "model_name": "DescriptionStyleModel",
          "model_module_version": "1.5.0",
          "state": {
            "_model_module": "@jupyter-widgets/controls",
            "_model_module_version": "1.5.0",
            "_model_name": "DescriptionStyleModel",
            "_view_count": null,
            "_view_module": "@jupyter-widgets/base",
            "_view_module_version": "1.2.0",
            "_view_name": "StyleView",
            "description_width": ""
          }
        },
        "72d5668c3888498e965877edd214c4b5": {
          "model_module": "@jupyter-widgets/base",
          "model_name": "LayoutModel",
          "model_module_version": "1.2.0",
          "state": {
            "_model_module": "@jupyter-widgets/base",
            "_model_module_version": "1.2.0",
            "_model_name": "LayoutModel",
            "_view_count": null,
            "_view_module": "@jupyter-widgets/base",
            "_view_module_version": "1.2.0",
            "_view_name": "LayoutView",
            "align_content": null,
            "align_items": null,
            "align_self": null,
            "border": null,
            "bottom": null,
            "display": null,
            "flex": null,
            "flex_flow": null,
            "grid_area": null,
            "grid_auto_columns": null,
            "grid_auto_flow": null,
            "grid_auto_rows": null,
            "grid_column": null,
            "grid_gap": null,
            "grid_row": null,
            "grid_template_areas": null,
            "grid_template_columns": null,
            "grid_template_rows": null,
            "height": null,
            "justify_content": null,
            "justify_items": null,
            "left": null,
            "margin": null,
            "max_height": null,
            "max_width": null,
            "min_height": null,
            "min_width": null,
            "object_fit": null,
            "object_position": null,
            "order": null,
            "overflow": null,
            "overflow_x": null,
            "overflow_y": null,
            "padding": null,
            "right": null,
            "top": null,
            "visibility": null,
            "width": null
          }
        },
        "9b04640ebaa44128bb4538c26c342d49": {
          "model_module": "@jupyter-widgets/controls",
          "model_name": "ProgressStyleModel",
          "model_module_version": "1.5.0",
          "state": {
            "_model_module": "@jupyter-widgets/controls",
            "_model_module_version": "1.5.0",
            "_model_name": "ProgressStyleModel",
            "_view_count": null,
            "_view_module": "@jupyter-widgets/base",
            "_view_module_version": "1.2.0",
            "_view_name": "StyleView",
            "bar_color": null,
            "description_width": ""
          }
        },
        "0b906618412a4000bb3b71083a686169": {
          "model_module": "@jupyter-widgets/base",
          "model_name": "LayoutModel",
          "model_module_version": "1.2.0",
          "state": {
            "_model_module": "@jupyter-widgets/base",
            "_model_module_version": "1.2.0",
            "_model_name": "LayoutModel",
            "_view_count": null,
            "_view_module": "@jupyter-widgets/base",
            "_view_module_version": "1.2.0",
            "_view_name": "LayoutView",
            "align_content": null,
            "align_items": null,
            "align_self": null,
            "border": null,
            "bottom": null,
            "display": null,
            "flex": null,
            "flex_flow": null,
            "grid_area": null,
            "grid_auto_columns": null,
            "grid_auto_flow": null,
            "grid_auto_rows": null,
            "grid_column": null,
            "grid_gap": null,
            "grid_row": null,
            "grid_template_areas": null,
            "grid_template_columns": null,
            "grid_template_rows": null,
            "height": null,
            "justify_content": null,
            "justify_items": null,
            "left": null,
            "margin": null,
            "max_height": null,
            "max_width": null,
            "min_height": null,
            "min_width": null,
            "object_fit": null,
            "object_position": null,
            "order": null,
            "overflow": null,
            "overflow_x": null,
            "overflow_y": null,
            "padding": null,
            "right": null,
            "top": null,
            "visibility": null,
            "width": null
          }
        },
        "7079f058c8a443559808518a0e52ec29": {
          "model_module": "@jupyter-widgets/controls",
          "model_name": "DescriptionStyleModel",
          "model_module_version": "1.5.0",
          "state": {
            "_model_module": "@jupyter-widgets/controls",
            "_model_module_version": "1.5.0",
            "_model_name": "DescriptionStyleModel",
            "_view_count": null,
            "_view_module": "@jupyter-widgets/base",
            "_view_module_version": "1.2.0",
            "_view_name": "StyleView",
            "description_width": ""
          }
        },
        "9ade8b7a764f43459b0220313748a3a8": {
          "model_module": "@jupyter-widgets/controls",
          "model_name": "HBoxModel",
          "model_module_version": "1.5.0",
          "state": {
            "_dom_classes": [],
            "_model_module": "@jupyter-widgets/controls",
            "_model_module_version": "1.5.0",
            "_model_name": "HBoxModel",
            "_view_count": null,
            "_view_module": "@jupyter-widgets/controls",
            "_view_module_version": "1.5.0",
            "_view_name": "HBoxView",
            "box_style": "",
            "children": [
              "IPY_MODEL_146fc13158e548f598166a51bf13a07b",
              "IPY_MODEL_28798f965b9e4da58f80881bb3f0f57c",
              "IPY_MODEL_c255db709b624e72bec66c912c255610"
            ],
            "layout": "IPY_MODEL_109c04684d284886b8a726b5866a2244"
          }
        },
        "146fc13158e548f598166a51bf13a07b": {
          "model_module": "@jupyter-widgets/controls",
          "model_name": "HTMLModel",
          "model_module_version": "1.5.0",
          "state": {
            "_dom_classes": [],
            "_model_module": "@jupyter-widgets/controls",
            "_model_module_version": "1.5.0",
            "_model_name": "HTMLModel",
            "_view_count": null,
            "_view_module": "@jupyter-widgets/controls",
            "_view_module_version": "1.5.0",
            "_view_name": "HTMLView",
            "description": "",
            "description_tooltip": null,
            "layout": "IPY_MODEL_e2c7f6bf862e494b8c2378bdd0cdee5e",
            "placeholder": "​",
            "style": "IPY_MODEL_fbedee6f9b6e467c9e7cb0f1d63889ed",
            "value": "100%"
          }
        },
        "28798f965b9e4da58f80881bb3f0f57c": {
          "model_module": "@jupyter-widgets/controls",
          "model_name": "FloatProgressModel",
          "model_module_version": "1.5.0",
          "state": {
            "_dom_classes": [],
            "_model_module": "@jupyter-widgets/controls",
            "_model_module_version": "1.5.0",
            "_model_name": "FloatProgressModel",
            "_view_count": null,
            "_view_module": "@jupyter-widgets/controls",
            "_view_module_version": "1.5.0",
            "_view_name": "ProgressView",
            "bar_style": "success",
            "description": "",
            "description_tooltip": null,
            "layout": "IPY_MODEL_d7df221eea4f44cd8086bca1a9f0258c",
            "max": 6721,
            "min": 0,
            "orientation": "horizontal",
            "style": "IPY_MODEL_e40c1958a6ef4ba3a42141b481fb7a67",
            "value": 6721
          }
        },
        "c255db709b624e72bec66c912c255610": {
          "model_module": "@jupyter-widgets/controls",
          "model_name": "HTMLModel",
          "model_module_version": "1.5.0",
          "state": {
            "_dom_classes": [],
            "_model_module": "@jupyter-widgets/controls",
            "_model_module_version": "1.5.0",
            "_model_name": "HTMLModel",
            "_view_count": null,
            "_view_module": "@jupyter-widgets/controls",
            "_view_module_version": "1.5.0",
            "_view_name": "HTMLView",
            "description": "",
            "description_tooltip": null,
            "layout": "IPY_MODEL_883c5f8820224a1fbef3683b246abd9a",
            "placeholder": "​",
            "style": "IPY_MODEL_431ac96c79474978a2b7c0ea7bf98a62",
            "value": " 6721/6721 [00:03&lt;00:00, 1884.66it/s]"
          }
        },
        "109c04684d284886b8a726b5866a2244": {
          "model_module": "@jupyter-widgets/base",
          "model_name": "LayoutModel",
          "model_module_version": "1.2.0",
          "state": {
            "_model_module": "@jupyter-widgets/base",
            "_model_module_version": "1.2.0",
            "_model_name": "LayoutModel",
            "_view_count": null,
            "_view_module": "@jupyter-widgets/base",
            "_view_module_version": "1.2.0",
            "_view_name": "LayoutView",
            "align_content": null,
            "align_items": null,
            "align_self": null,
            "border": null,
            "bottom": null,
            "display": null,
            "flex": null,
            "flex_flow": null,
            "grid_area": null,
            "grid_auto_columns": null,
            "grid_auto_flow": null,
            "grid_auto_rows": null,
            "grid_column": null,
            "grid_gap": null,
            "grid_row": null,
            "grid_template_areas": null,
            "grid_template_columns": null,
            "grid_template_rows": null,
            "height": null,
            "justify_content": null,
            "justify_items": null,
            "left": null,
            "margin": null,
            "max_height": null,
            "max_width": null,
            "min_height": null,
            "min_width": null,
            "object_fit": null,
            "object_position": null,
            "order": null,
            "overflow": null,
            "overflow_x": null,
            "overflow_y": null,
            "padding": null,
            "right": null,
            "top": null,
            "visibility": null,
            "width": null
          }
        },
        "e2c7f6bf862e494b8c2378bdd0cdee5e": {
          "model_module": "@jupyter-widgets/base",
          "model_name": "LayoutModel",
          "model_module_version": "1.2.0",
          "state": {
            "_model_module": "@jupyter-widgets/base",
            "_model_module_version": "1.2.0",
            "_model_name": "LayoutModel",
            "_view_count": null,
            "_view_module": "@jupyter-widgets/base",
            "_view_module_version": "1.2.0",
            "_view_name": "LayoutView",
            "align_content": null,
            "align_items": null,
            "align_self": null,
            "border": null,
            "bottom": null,
            "display": null,
            "flex": null,
            "flex_flow": null,
            "grid_area": null,
            "grid_auto_columns": null,
            "grid_auto_flow": null,
            "grid_auto_rows": null,
            "grid_column": null,
            "grid_gap": null,
            "grid_row": null,
            "grid_template_areas": null,
            "grid_template_columns": null,
            "grid_template_rows": null,
            "height": null,
            "justify_content": null,
            "justify_items": null,
            "left": null,
            "margin": null,
            "max_height": null,
            "max_width": null,
            "min_height": null,
            "min_width": null,
            "object_fit": null,
            "object_position": null,
            "order": null,
            "overflow": null,
            "overflow_x": null,
            "overflow_y": null,
            "padding": null,
            "right": null,
            "top": null,
            "visibility": null,
            "width": null
          }
        },
        "fbedee6f9b6e467c9e7cb0f1d63889ed": {
          "model_module": "@jupyter-widgets/controls",
          "model_name": "DescriptionStyleModel",
          "model_module_version": "1.5.0",
          "state": {
            "_model_module": "@jupyter-widgets/controls",
            "_model_module_version": "1.5.0",
            "_model_name": "DescriptionStyleModel",
            "_view_count": null,
            "_view_module": "@jupyter-widgets/base",
            "_view_module_version": "1.2.0",
            "_view_name": "StyleView",
            "description_width": ""
          }
        },
        "d7df221eea4f44cd8086bca1a9f0258c": {
          "model_module": "@jupyter-widgets/base",
          "model_name": "LayoutModel",
          "model_module_version": "1.2.0",
          "state": {
            "_model_module": "@jupyter-widgets/base",
            "_model_module_version": "1.2.0",
            "_model_name": "LayoutModel",
            "_view_count": null,
            "_view_module": "@jupyter-widgets/base",
            "_view_module_version": "1.2.0",
            "_view_name": "LayoutView",
            "align_content": null,
            "align_items": null,
            "align_self": null,
            "border": null,
            "bottom": null,
            "display": null,
            "flex": null,
            "flex_flow": null,
            "grid_area": null,
            "grid_auto_columns": null,
            "grid_auto_flow": null,
            "grid_auto_rows": null,
            "grid_column": null,
            "grid_gap": null,
            "grid_row": null,
            "grid_template_areas": null,
            "grid_template_columns": null,
            "grid_template_rows": null,
            "height": null,
            "justify_content": null,
            "justify_items": null,
            "left": null,
            "margin": null,
            "max_height": null,
            "max_width": null,
            "min_height": null,
            "min_width": null,
            "object_fit": null,
            "object_position": null,
            "order": null,
            "overflow": null,
            "overflow_x": null,
            "overflow_y": null,
            "padding": null,
            "right": null,
            "top": null,
            "visibility": null,
            "width": null
          }
        },
        "e40c1958a6ef4ba3a42141b481fb7a67": {
          "model_module": "@jupyter-widgets/controls",
          "model_name": "ProgressStyleModel",
          "model_module_version": "1.5.0",
          "state": {
            "_model_module": "@jupyter-widgets/controls",
            "_model_module_version": "1.5.0",
            "_model_name": "ProgressStyleModel",
            "_view_count": null,
            "_view_module": "@jupyter-widgets/base",
            "_view_module_version": "1.2.0",
            "_view_name": "StyleView",
            "bar_color": null,
            "description_width": ""
          }
        },
        "883c5f8820224a1fbef3683b246abd9a": {
          "model_module": "@jupyter-widgets/base",
          "model_name": "LayoutModel",
          "model_module_version": "1.2.0",
          "state": {
            "_model_module": "@jupyter-widgets/base",
            "_model_module_version": "1.2.0",
            "_model_name": "LayoutModel",
            "_view_count": null,
            "_view_module": "@jupyter-widgets/base",
            "_view_module_version": "1.2.0",
            "_view_name": "LayoutView",
            "align_content": null,
            "align_items": null,
            "align_self": null,
            "border": null,
            "bottom": null,
            "display": null,
            "flex": null,
            "flex_flow": null,
            "grid_area": null,
            "grid_auto_columns": null,
            "grid_auto_flow": null,
            "grid_auto_rows": null,
            "grid_column": null,
            "grid_gap": null,
            "grid_row": null,
            "grid_template_areas": null,
            "grid_template_columns": null,
            "grid_template_rows": null,
            "height": null,
            "justify_content": null,
            "justify_items": null,
            "left": null,
            "margin": null,
            "max_height": null,
            "max_width": null,
            "min_height": null,
            "min_width": null,
            "object_fit": null,
            "object_position": null,
            "order": null,
            "overflow": null,
            "overflow_x": null,
            "overflow_y": null,
            "padding": null,
            "right": null,
            "top": null,
            "visibility": null,
            "width": null
          }
        },
        "431ac96c79474978a2b7c0ea7bf98a62": {
          "model_module": "@jupyter-widgets/controls",
          "model_name": "DescriptionStyleModel",
          "model_module_version": "1.5.0",
          "state": {
            "_model_module": "@jupyter-widgets/controls",
            "_model_module_version": "1.5.0",
            "_model_name": "DescriptionStyleModel",
            "_view_count": null,
            "_view_module": "@jupyter-widgets/base",
            "_view_module_version": "1.2.0",
            "_view_name": "StyleView",
            "description_width": ""
          }
        }
      }
    }
  },
  "cells": [
    {
      "cell_type": "markdown",
      "source": [
        "# 1.LIBRARIES ------------------------------------------------"
      ],
      "metadata": {
        "id": "mRWrNcjxtyuf"
      }
    },
    {
      "cell_type": "code",
      "source": [
        "!pip install sentencepiece==0.1.99 transformers==4.33.2 datasets sacremoses  -q"
      ],
      "metadata": {
        "colab": {
          "base_uri": "https://localhost:8080/"
        },
        "id": "CCSzWJ3MBbAr",
        "outputId": "9ec5d996-eeed-4979-d69c-45fe98d60785"
      },
      "execution_count": null,
      "outputs": [
        {
          "output_type": "stream",
          "name": "stdout",
          "text": [
            "\u001b[2K     \u001b[90m━━━━━━━━━━━━━━━━━━━━━━━━━━━━━━━━━━━━━━━━\u001b[0m \u001b[32m1.3/1.3 MB\u001b[0m \u001b[31m9.0 MB/s\u001b[0m eta \u001b[36m0:00:00\u001b[0m\n",
            "\u001b[2K     \u001b[90m━━━━━━━━━━━━━━━━━━━━━━━━━━━━━━━━━━━━━━━━\u001b[0m \u001b[32m7.6/7.6 MB\u001b[0m \u001b[31m28.2 MB/s\u001b[0m eta \u001b[36m0:00:00\u001b[0m\n",
            "\u001b[2K     \u001b[90m━━━━━━━━━━━━━━━━━━━━━━━━━━━━━━━━━━━━━━\u001b[0m \u001b[32m519.6/519.6 kB\u001b[0m \u001b[31m33.1 MB/s\u001b[0m eta \u001b[36m0:00:00\u001b[0m\n",
            "\u001b[2K     \u001b[90m━━━━━━━━━━━━━━━━━━━━━━━━━━━━━━━━━━━━━━\u001b[0m \u001b[32m880.6/880.6 kB\u001b[0m \u001b[31m39.1 MB/s\u001b[0m eta \u001b[36m0:00:00\u001b[0m\n",
            "\u001b[?25h  Preparing metadata (setup.py) ... \u001b[?25l\u001b[?25hdone\n",
            "\u001b[2K     \u001b[90m━━━━━━━━━━━━━━━━━━━━━━━━━━━━━━━━━━━━━━\u001b[0m \u001b[32m302.0/302.0 kB\u001b[0m \u001b[31m24.3 MB/s\u001b[0m eta \u001b[36m0:00:00\u001b[0m\n",
            "\u001b[2K     \u001b[90m━━━━━━━━━━━━━━━━━━━━━━━━━━━━━━━━━━━━━━━━\u001b[0m \u001b[32m7.8/7.8 MB\u001b[0m \u001b[31m53.1 MB/s\u001b[0m eta \u001b[36m0:00:00\u001b[0m\n",
            "\u001b[2K     \u001b[90m━━━━━━━━━━━━━━━━━━━━━━━━━━━━━━━━━━━━━━━━\u001b[0m \u001b[32m1.3/1.3 MB\u001b[0m \u001b[31m49.5 MB/s\u001b[0m eta \u001b[36m0:00:00\u001b[0m\n",
            "\u001b[2K     \u001b[90m━━━━━━━━━━━━━━━━━━━━━━━━━━━━━━━━━━━━━━\u001b[0m \u001b[32m115.3/115.3 kB\u001b[0m \u001b[31m10.6 MB/s\u001b[0m eta \u001b[36m0:00:00\u001b[0m\n",
            "\u001b[2K     \u001b[90m━━━━━━━━━━━━━━━━━━━━━━━━━━━━━━━━━━━━━━━\u001b[0m \u001b[32m194.1/194.1 kB\u001b[0m \u001b[31m7.4 MB/s\u001b[0m eta \u001b[36m0:00:00\u001b[0m\n",
            "\u001b[2K     \u001b[90m━━━━━━━━━━━━━━━━━━━━━━━━━━━━━━━━━━━━━━━\u001b[0m \u001b[32m134.8/134.8 kB\u001b[0m \u001b[31m6.5 MB/s\u001b[0m eta \u001b[36m0:00:00\u001b[0m\n",
            "\u001b[?25h  Building wheel for sacremoses (setup.py) ... \u001b[?25l\u001b[?25hdone\n"
          ]
        }
      ]
    },
    {
      "cell_type": "code",
      "source": [
        "import torch\n",
        "import random\n",
        "import re\n",
        "import pandas as pd\n",
        "import numpy as np\n",
        "import sentencepiece.sentencepiece_model_pb2 as sp_pb2_model\n",
        "from collections import Counter, defaultdict\n",
        "from tqdm.auto import tqdm, trange\n",
        "from transformers import AutoModelForSeq2SeqLM\n",
        "from transformers import NllbTokenizer\n",
        "import sys\n",
        "import unicodedata\n",
        "from sacremoses import MosesPunctNormalizer\n",
        "import sentencepiece as spm"
      ],
      "metadata": {
        "id": "mPSZ237xt1_Q"
      },
      "execution_count": null,
      "outputs": []
    },
    {
      "cell_type": "markdown",
      "source": [
        "# 2.CONSTANTS ------------------------------------------------"
      ],
      "metadata": {
        "id": "FQeKjNOUt92Q"
      }
    },
    {
      "cell_type": "code",
      "source": [
        "from google.colab import drive\n",
        "drive.mount('/Til')"
      ],
      "metadata": {
        "colab": {
          "base_uri": "https://localhost:8080/"
        },
        "id": "hP_frnvbB1Fl",
        "outputId": "15226a86-411c-4ce2-ce9a-f6e983886764"
      },
      "execution_count": null,
      "outputs": [
        {
          "output_type": "stream",
          "name": "stdout",
          "text": [
            "Mounted at /Til\n"
          ]
        }
      ]
    },
    {
      "cell_type": "code",
      "source": [
        "PATH = '/Til/MyDrive/Colab Notebooks/Til/'\n",
        "DATA_PATH = \"\".join([PATH, 'Data/'])\n",
        "MODEL_NAME = \"facebook/nllb-200-distilled-600M\"\n",
        "ALL_SENTENCES_PATH = \"\".join([DATA_PATH, 'All_model.csv'])\n",
        "MODEL_PATH = \"\".join([PATH, 'models/NLLB_v1/'])\n",
        "# OLD_TOKENIZER_PATH = \"\".join([MODEL_PATH, 'old_tokenizer'])\n",
        "# OLD_TOKENIZER_BPE_PATH = \"\".join([OLD_TOKENIZER_PATH, \"/sentencepiece.bpe.model\"])\n",
        "LANG_UNICODE = 'krc_Cyrl'\n",
        "MODEL_PATH_RAW = \"\".join([MODEL_PATH, 'nllb_krc_raw'])\n",
        "\n",
        "ALL_TEXT_PLAIN = \"\".join([DATA_PATH, 'my_texts_plain.txt'])\n",
        "SPM_PREFIX = \"\".join([MODEL_PATH, 'SPM_QM/SPM_QM'])\n",
        "NEW_SPM_NAME = \"\".join([MODEL_PATH, 'SPM_QM/spm_nllb_qm.model'])\n",
        "\n",
        "PUNCT = '.,-—:)(»«!?–/;„\"“…*́№Ёҥ[]”^%+І=і•_􏰀²|}{#‘■>⁠’á<°\\§\\''"
      ],
      "metadata": {
        "id": "eDBjhKKot-3M"
      },
      "execution_count": null,
      "outputs": []
    },
    {
      "cell_type": "markdown",
      "source": [
        "# 3.DOWNLOADING ------------------------------------------------"
      ],
      "metadata": {
        "id": "YJ-7Bsix661b"
      }
    },
    {
      "cell_type": "code",
      "source": [
        "all_sentences = pd.read_csv(ALL_SENTENCES_PATH, sep = ';')\n",
        "all_sentences_krc = np.array(all_sentences.krc.replace(PUNCT, \"\"))\n",
        "print(all_sentences_krc[:10])"
      ],
      "metadata": {
        "colab": {
          "base_uri": "https://localhost:8080/"
        },
        "id": "o2N7Sfhv65GG",
        "outputId": "6c3e57ba-183d-4681-8808-2086ac8023a9"
      },
      "execution_count": null,
      "outputs": [
        {
          "output_type": "stream",
          "name": "stdout",
          "text": [
            "['Теnиз тузлу некди?'\n",
            " 'Бир jашчыq анасы бла тиnизге jуwунурgа барgанды. Jашчыq qуwаныb, суwgа кёмюлсе, аwузуна суw киргенди, кеси wa тузлу суw. Jунчуgан да этиb, бир уртлам суwну да jутуb, ол jаgаgа чыqgанды. Суwну алай тузлу нек болgанын аnыламай:'\n",
            " '- Некди теnиз былай тузлу? – деb сейирсинnенди.'\n",
            " 'Анасы jашына теnизни хапарын айтханды:'\n",
            " '- Эртде-эртде бир бай qарнаш бла бир jарлы qарнаш jашаgандыла. Jарлы qарнаш байgа «менnе муну бла бир тюйчюк бер» деb, табаqны алыb, тилей барgанды. Бай qарнаш бермегенди.'\n",
            " 'Jарлы, аны юйюнден чыgыb, мыдах болуb, келе турgанлай, qолунда гырjынчыgы бла бир киши чыqgанды аллына. '\n",
            " '- Не айланаса? – деb сорgан кишичик.'\n",
            " 'Jаш аnа, былай да былай деb, jарлылыq хапарын айтханды.'\n",
            " '- Ма, бу гырjынчыqны ал да, таw артына бар. Анда гитче адамчыqла jашайдыла. Башха затха унамай, гырjынчыgыnы тирменчикге аwушдур. Андан арысын кёре барырса, - деb кишичик гырjынчыgын да jашха тутдуруb, jолуна кетеди.'\n",
            " 'Jарлы qарнаш таw артына аwgанды, ол адамчыqлаgа тюлбегенди. Сёлешгендиле, танышхандыла.']\n"
          ]
        }
      ]
    },
    {
      "cell_type": "code",
      "source": [
        "tokenizer = NllbTokenizer.from_pretrained(MODEL_NAME)"
      ],
      "metadata": {
        "id": "O0Vmd_RlCBrj"
      },
      "execution_count": null,
      "outputs": []
    },
    {
      "cell_type": "markdown",
      "source": [
        "# 4.LOOKING AT THE DATA ------------------------------------------------"
      ],
      "metadata": {
        "id": "tSzDaHKK7oFR"
      }
    },
    {
      "cell_type": "markdown",
      "source": [
        "### How well does the data fit into a NLLB tokenizer?"
      ],
      "metadata": {
        "id": "Nqei2hxV7vs1"
      }
    },
    {
      "cell_type": "code",
      "source": [
        "def wordTokenize(text):\n",
        "    # a very naive word tokenizer for languages with English-like orthography\n",
        "    return re.findall('(\\\\w+|[^\\\\w\\\\s])', text)\n",
        "\n",
        "# smpl = all_sentences.sample(10000, random_state=1)\n",
        "smpl = all_sentences\n",
        "smpl['rus_toks'] = smpl.rus.apply(tokenizer.tokenize)\n",
        "smpl['krc_toks'] = smpl.krc.apply(tokenizer.tokenize)\n",
        "smpl['rus_words'] = smpl.rus.apply(wordTokenize)\n",
        "smpl['krc_words'] = smpl.krc.apply(wordTokenize)\n",
        "\n",
        "print(smpl)"
      ],
      "metadata": {
        "colab": {
          "base_uri": "https://localhost:8080/"
        },
        "id": "cy8VwBUk7pph",
        "outputId": "54700818-9241-41fa-80ec-b2ec54110d09"
      },
      "execution_count": null,
      "outputs": [
        {
          "output_type": "stream",
          "name": "stdout",
          "text": [
            "                                                      krc  \\\n",
            "0                                      Теnиз тузлу некди?   \n",
            "1       Бир jашчыq анасы бла тиnизге jуwунурgа барgанд...   \n",
            "2         - Некди теnиз былай тузлу? – деb сейирсинnенди.   \n",
            "3                  Анасы jашына теnизни хапарын айтханды:   \n",
            "4       - Эртде-эртде бир бай qарнаш бла бир jарлы qар...   \n",
            "...                                                   ...   \n",
            "260597               Оgай, алай тюлдю, сиз артда билирсиз   \n",
            "260598  Мен заман бла ант этеме, Толу ийнаныw, 2. Ашхы...   \n",
            "260599      Сизни динигиз сизге, мени диним менnе», - де.   \n",
            "260600  Осебебден махтаwла бла Раббиnи тазала, кечмекл...   \n",
            "260601     Абу-Лахабны эки qолу qурусун, кеси да qурусун!   \n",
            "\n",
            "                                                      rus  \\\n",
            "0                                    Почему море солёное?   \n",
            "1       Один мальчик со своей мамой на море купаться п...   \n",
            "2       - Почему вода такая солёная? – он поинтересова...   \n",
            "3                   Мама мальчика о море начала говорить:   \n",
            "4       - Давным-давно жили один богатый брат и один б...   \n",
            "...                                                   ...   \n",
            "260597   Но не так должно быть! Скоро вы об этом узнаете!   \n",
            "260598  Клянусь послеполуденным временем, Клянусь посл...   \n",
            "260599  Вам - ваша вера, мне же - моя вера!\"\" Сура 110...   \n",
            "260600  то воздай хвалу Господу твоему, и проси у Него...   \n",
            "260601     Да отсохнут руки Абу Лахаба! Да сгинет он сам!   \n",
            "\n",
            "                                                 rus_toks  \\\n",
            "0                       [▁Почему, ▁море, ▁сол, ё, ное, ?]   \n",
            "1       [▁Один, ▁маль, чик, ▁со, ▁своей, ▁ма, мой, ▁на...   \n",
            "2       [▁-, ▁Почему, ▁вода, ▁такая, ▁сол, ё, ная, ?, ...   \n",
            "3       [▁Мама, ▁маль, чика, ▁о, ▁море, ▁начала, ▁гово...   \n",
            "4       [▁-, ▁Да, в, ным, -, давно, ▁жили, ▁один, ▁бог...   \n",
            "...                                                   ...   \n",
            "260597  [▁Но, ▁не, ▁так, ▁должно, ▁быть, !, ▁Скоро, ▁в...   \n",
            "260598  [▁К, ля, ну, сь, ▁после, полу, ден, ным, ▁врем...   \n",
            "260599  [▁Вам, ▁-, ▁ваша, ▁вера, ,, ▁мне, ▁же, ▁-, ▁мо...   \n",
            "260600  [▁то, ▁воз, дай, ▁хва, лу, ▁Господу, ▁тво, ему...   \n",
            "260601  [▁Да, ▁от, со, х, нут, ▁руки, ▁А, бу, ▁Ла, хаб...   \n",
            "\n",
            "                                                 krc_toks  \\\n",
            "0                   [▁Те, n, из, ▁ту, з, лу, ▁нек, ди, ?]   \n",
            "1       [▁Бир, ▁j, аш, чы, q, ▁ана, сы, ▁бла, ▁ти, n, ...   \n",
            "2       [▁-, ▁Не, к, ди, ▁те, n, из, ▁былай, ▁ту, з, л...   \n",
            "3       [▁Ана, сы, ▁j, а, шына, ▁те, n, из, ни, ▁ха, п...   \n",
            "4       [▁-, ▁Э, рт, де, -, эр, т, де, ▁бир, ▁бай, ▁q,...   \n",
            "...                                                   ...   \n",
            "260597  [▁О, g, ай, ,, ▁алай, ▁тю, лд, ю, ,, ▁сиз, ▁ар...   \n",
            "260598  [▁Мен, ▁заман, ▁бла, ▁ант, ▁э, теме, ,, ▁То, л...   \n",
            "260599  [▁Сиз, ни, ▁дини, гиз, ▁сизге, ,, ▁мени, ▁ди, ...   \n",
            "260600  [▁О, се, бе, б, ден, ▁ма, хта, w, ла, ▁бла, ▁Р...   \n",
            "260601  [▁А, бу, -, Л, ах, аб, ны, ▁эки, ▁q, о, лу, ▁q...   \n",
            "\n",
            "                                                rus_words  \\\n",
            "0                              [Почему, море, солёное, ?]   \n",
            "1       [Один, мальчик, со, своей, мамой, на, море, ку...   \n",
            "2       [-, Почему, вода, такая, солёная, ?, –, он, по...   \n",
            "3          [Мама, мальчика, о, море, начала, говорить, :]   \n",
            "4       [-, Давным, -, давно, жили, один, богатый, бра...   \n",
            "...                                                   ...   \n",
            "260597  [Но, не, так, должно, быть, !, Скоро, вы, об, ...   \n",
            "260598  [Клянусь, послеполуденным, временем, ,, Клянус...   \n",
            "260599  [Вам, -, ваша, вера, ,, мне, же, -, моя, вера,...   \n",
            "260600  [то, воздай, хвалу, Господу, твоему, ,, и, про...   \n",
            "260601  [Да, отсохнут, руки, Абу, Лахаба, !, Да, сгине...   \n",
            "\n",
            "                                                krc_words  \n",
            "0                                [Теnиз, тузлу, некди, ?]  \n",
            "1       [Бир, jашчыq, анасы, бла, тиnизге, jуwунурgа, ...  \n",
            "2       [-, Некди, теnиз, былай, тузлу, ?, –, деb, сей...  \n",
            "3          [Анасы, jашына, теnизни, хапарын, айтханды, :]  \n",
            "4       [-, Эртде, -, эртде, бир, бай, qарнаш, бла, би...  \n",
            "...                                                   ...  \n",
            "260597    [Оgай, ,, алай, тюлдю, ,, сиз, артда, билирсиз]  \n",
            "260598  [Мен, заман, бла, ант, этеме, ,, Толу, ийнаныw...  \n",
            "260599  [Сизни, динигиз, сизге, ,, мени, диним, менnе,...  \n",
            "260600  [Осебебден, махтаwла, бла, Раббиnи, тазала, ,,...  \n",
            "260601  [Абу, -, Лахабны, эки, qолу, qурусун, ,, кеси,...  \n",
            "\n",
            "[260602 rows x 6 columns]\n"
          ]
        }
      ]
    },
    {
      "cell_type": "markdown",
      "source": [
        "Actually, we can compute precise statistics of this:"
      ],
      "metadata": {
        "id": "5dAI2tg076Jn"
      }
    },
    {
      "cell_type": "code",
      "source": [
        "stats = smpl[\n",
        "    ['rus_toks', 'krc_toks', 'rus_words', 'krc_words']\n",
        "].applymap(len).describe()\n",
        "print(stats.rus_toks['mean'] / stats.rus_words['mean'])  # 1.65\n",
        "print(stats.krc_toks['mean'] / stats.krc_words['mean'])  # 2.38"
      ],
      "metadata": {
        "colab": {
          "base_uri": "https://localhost:8080/"
        },
        "id": "KaKWxS2P7uYR",
        "outputId": "88a02c0d-d1f6-47fe-9203-b2ce33d53ad4"
      },
      "execution_count": null,
      "outputs": [
        {
          "output_type": "stream",
          "name": "stdout",
          "text": [
            "1.6593475518751215\n",
            "2.3755470642360565\n"
          ]
        }
      ]
    },
    {
      "cell_type": "code",
      "source": [
        "print(stats)"
      ],
      "metadata": {
        "colab": {
          "base_uri": "https://localhost:8080/"
        },
        "id": "Qaotaqet8FD7",
        "outputId": "2376148e-9c34-4ec7-820b-aac112a4c6f9"
      },
      "execution_count": null,
      "outputs": [
        {
          "output_type": "stream",
          "name": "stdout",
          "text": [
            "            rus_toks       krc_toks      rus_words      krc_words\n",
            "count  260602.000000  260602.000000  260602.000000  260602.000000\n",
            "mean       13.775873      18.545679       8.301982       7.806909\n",
            "std        29.168188      38.949462      19.266522      17.671651\n",
            "min         1.000000       1.000000       1.000000       1.000000\n",
            "25%         3.000000       4.000000       1.000000       1.000000\n",
            "50%         5.000000       7.000000       2.000000       2.000000\n",
            "75%        11.000000      14.000000       7.000000       6.000000\n",
            "max      2019.000000    2506.000000    1277.000000    1072.000000\n"
          ]
        }
      ]
    },
    {
      "cell_type": "markdown",
      "source": [
        "There is enough big range between a number of tokens for russian and qarachay-malqar languages. So we need to add some tokens to nllb vocabulary"
      ],
      "metadata": {
        "id": "d65SekGl8CnY"
      }
    },
    {
      "cell_type": "markdown",
      "source": [
        "### CHECK UNK NUMBER"
      ],
      "metadata": {
        "id": "87LUAEga8Pfg"
      }
    },
    {
      "cell_type": "code",
      "source": [
        "texts_with_unk = [\n",
        "    text for text in tqdm(all_sentences.krc)\n",
        "    if tokenizer.unk_token_id in tokenizer(text).input_ids\n",
        "]\n",
        "print(len(texts_with_unk))\n",
        "s = random.sample(texts_with_unk, 5)"
      ],
      "metadata": {
        "colab": {
          "base_uri": "https://localhost:8080/",
          "height": 104,
          "referenced_widgets": [
            "22e07eb644174043bf3bfa66c996a302",
            "260cd11af85749f6843e13f0f8a6dfbb",
            "f16ea4c3dc044cbcb89757cb6a940da8",
            "90211e8bea1445819397ffd15d232833",
            "71402dce62ff4d8ba7246f4113532398",
            "0d34cdc9dbad4f18a32f520b6821b124",
            "9f13bc81b4bc4ed186ba21e4cc607752",
            "5a9af2b837b1416e8abadd10d24176ae",
            "41b395bdf1214f92acc3b3b487f9f392",
            "65ca33ef26204fa4afcbead726c7c3d5",
            "200e27f0fd8b4a60a57a172a9638bb4d"
          ]
        },
        "id": "t-B6-tAU8PMW",
        "outputId": "8ae7f8ff-584d-4e5f-a877-30f7402dd26e"
      },
      "execution_count": null,
      "outputs": [
        {
          "output_type": "display_data",
          "data": {
            "text/plain": [
              "  0%|          | 0/260602 [00:00<?, ?it/s]"
            ],
            "application/vnd.jupyter.widget-view+json": {
              "version_major": 2,
              "version_minor": 0,
              "model_id": "22e07eb644174043bf3bfa66c996a302"
            }
          },
          "metadata": {}
        },
        {
          "output_type": "stream",
          "name": "stderr",
          "text": [
            "Token indices sequence length is longer than the specified maximum sequence length for this model (1432 > 1024). Running this sequence through the model will result in indexing errors\n"
          ]
        },
        {
          "output_type": "stream",
          "name": "stdout",
          "text": [
            "21642\n"
          ]
        }
      ]
    },
    {
      "cell_type": "markdown",
      "source": [
        "We can see that out of 260 602 texts, 21642 contain an “unknown symbol” after tokenization.  \n",
        "Most of these cases seem to be associated with non-standard punctuation marks, and there is a reason for that:   \n",
        "* the NLLB team preprocessed their texts before training the tokenizer and the model.\n",
        "* The code for preprocessing (adapted from the Stopes repo) looks like this:"
      ],
      "metadata": {
        "id": "rgMUqSiG8p3S"
      }
    },
    {
      "cell_type": "code",
      "source": [
        "mpn = MosesPunctNormalizer(lang=\"en\")\n",
        "mpn.substitutions = [\n",
        "    (re.compile(r), sub) for r, sub in mpn.substitutions\n",
        "]\n",
        "\n",
        "def get_non_printing_char_replacer(replace_by: str = \" \"):\n",
        "    non_printable_map = {\n",
        "        ord(c): replace_by\n",
        "        for c in (chr(i) for i in range(sys.maxunicode + 1))\n",
        "        # same as \\p{C} in perl\n",
        "        # see https://www.unicode.org/reports/tr44/#General_Category_Values\n",
        "        if unicodedata.category(c) in {\"C\", \"Cc\", \"Cf\", \"Cs\", \"Co\", \"Cn\"}\n",
        "    }\n",
        "\n",
        "    def replace_non_printing_char(line) -> str:\n",
        "        return line.translate(non_printable_map)\n",
        "\n",
        "    return replace_non_printing_char\n",
        "\n",
        "replace_nonprint = get_non_printing_char_replacer(\" \")\n",
        "\n",
        "def preproc(text):\n",
        "    clean = mpn.normalize(text)\n",
        "    clean = replace_nonprint(clean)\n",
        "    # replace 𝓕𝔯𝔞𝔫𝔠𝔢𝔰𝔠𝔞 by Francesca\n",
        "    clean = unicodedata.normalize(\"NFKC\", clean)\n",
        "    return clean"
      ],
      "metadata": {
        "id": "QEPtZ5B-81yV"
      },
      "execution_count": null,
      "outputs": []
    },
    {
      "cell_type": "code",
      "source": [
        "texts_with_unk_normed = [\n",
        "    text for text in tqdm(texts_with_unk)\n",
        "    if tokenizer.unk_token_id in tokenizer(preproc(text)).input_ids\n",
        "]\n",
        "print(len(texts_with_unk_normed))  # 0"
      ],
      "metadata": {
        "colab": {
          "base_uri": "https://localhost:8080/",
          "height": 66,
          "referenced_widgets": [
            "1918e20809a1418e831a7fc8152836aa",
            "b9bdded066ec477a9d1198b5070b94a0",
            "73e53638552242af96c2d73adcd73995",
            "6ee46973a908418f81c2a82a8c9a7afe",
            "431309ef6dc449198830322f390c0711",
            "c3d0a69296ce4d4080d9b9f1528f230e",
            "e41e808e179448ad89221922baa7a499",
            "c1392d7fbcef4589beec4031f1d1f106",
            "0e7b66428dbd40ddbc14d4191491dacb",
            "89bc853c8757433c9630860de4603a23",
            "988e2ee5689844d9a6127c288ac6c198"
          ]
        },
        "id": "PUg_M_Sb826T",
        "outputId": "4982a1e1-8b61-48e8-acf6-3c994ab861e1"
      },
      "execution_count": null,
      "outputs": [
        {
          "output_type": "display_data",
          "data": {
            "text/plain": [
              "  0%|          | 0/21642 [00:00<?, ?it/s]"
            ],
            "application/vnd.jupyter.widget-view+json": {
              "version_major": 2,
              "version_minor": 0,
              "model_id": "1918e20809a1418e831a7fc8152836aa"
            }
          },
          "metadata": {}
        },
        {
          "output_type": "stream",
          "name": "stdout",
          "text": [
            "0\n"
          ]
        }
      ]
    },
    {
      "cell_type": "markdown",
      "source": [
        "In this case we can say that unk tokens it is just a punctuation."
      ],
      "metadata": {
        "id": "TjzUzKaj8556"
      }
    },
    {
      "cell_type": "markdown",
      "source": [
        "# 5.EXPANDING VOCABULARY ------------------------------------------------"
      ],
      "metadata": {
        "id": "whc1pAux9Flg"
      }
    },
    {
      "cell_type": "code",
      "source": [
        "chars_cnt = Counter(c for t in all_sentences_krc for c in t)\n",
        "\n",
        "with open(ALL_TEXT_PLAIN, 'w') as f:\n",
        "    for i, text in enumerate(all_sentences_krc):\n",
        "        print(text, file=f)"
      ],
      "metadata": {
        "id": "oRB4hac99Gji"
      },
      "execution_count": null,
      "outputs": []
    },
    {
      "cell_type": "markdown",
      "source": [
        "I chose the vocabulary size to be 8K intuitively, because such a number of tokens can potentially cover the most important roots and suffixes in the language (to compare: NLLB vocabulary for 200 languages has 256000 tokens, but many of them are used by a lot of different languages).  \n",
        "All the other parameters are not very important."
      ],
      "metadata": {
        "id": "4qY2A3jY9LAb"
      }
    },
    {
      "cell_type": "code",
      "source": [
        "spm.SentencePieceTrainer.train(\n",
        "    input=ALL_TEXT_PLAIN,\n",
        "    model_prefix=SPM_PREFIX,\n",
        "    vocab_size=2**13,  # 8K\n",
        "    character_coverage = 1,\n",
        "    # num_threads=16,\n",
        "    train_extremely_large_corpus=False,\n",
        "    add_dummy_prefix=False,\n",
        "    max_sentencepiece_length=512,\n",
        "    max_sentence_length=4192*4,\n",
        "    pad_id=0,\n",
        "    eos_id=1,\n",
        "    unk_id=2,\n",
        "    bos_id=-1,\n",
        "    required_chars=''.join([k for k, v in chars_cnt.most_common() if v >= 3 and k not in ' ']),\n",
        ")"
      ],
      "metadata": {
        "id": "0XcqgO2o9pFy"
      },
      "execution_count": null,
      "outputs": []
    },
    {
      "cell_type": "markdown",
      "source": [
        "After training a QM tokenizer, I perform a “surgical operation” with it: extracting the sentencepiece model from the standard NLLB tokenizer and enriching it from all tokens from the QM tokenizer that have been missing from the NLLB tokenizer (based on the example from the sentencepiece repo)."
      ],
      "metadata": {
        "id": "vngolpXK9zOz"
      }
    },
    {
      "cell_type": "markdown",
      "source": [
        "reading the NLLB and the QM sentencepiece models into a native format"
      ],
      "metadata": {
        "id": "0nPD-qnF92jj"
      }
    },
    {
      "cell_type": "code",
      "source": [
        "sp_trained = spm.SentencePieceProcessor(model_file=f'{SPM_PREFIX}.model')\n",
        "added_spm = sp_pb2_model.ModelProto()\n",
        "added_spm.ParseFromString(sp_trained.serialized_model_proto())\n",
        "old_spm = sp_pb2_model.ModelProto()\n",
        "old_spm.ParseFromString(tokenizer.sp_model.serialized_model_proto())\n",
        "\n",
        "# adding the missing tokens to the NLLB sentencepiece model\n",
        "nllb_tokens_set = {p.piece for p in old_spm.pieces}\n",
        "print(len(nllb_tokens_set))"
      ],
      "metadata": {
        "colab": {
          "base_uri": "https://localhost:8080/"
        },
        "id": "_ZZ8Zs9f95qT",
        "outputId": "e25ff8b9-9d82-48c3-a2d3-9189d5eb160f"
      },
      "execution_count": null,
      "outputs": [
        {
          "output_type": "stream",
          "name": "stdout",
          "text": [
            "256000\n"
          ]
        }
      ]
    },
    {
      "cell_type": "code",
      "source": [
        "prev_min_score = old_spm.pieces[-1].score\n",
        "for p in added_spm.pieces:\n",
        "    piece = p.piece\n",
        "    if piece not in nllb_tokens_set:\n",
        "        new_p = sp_pb2_model.ModelProto().SentencePiece()\n",
        "        new_p.piece = piece\n",
        "        # for all new tokens, I'll set a lower score (priority)\n",
        "        new_p.score = p.score + prev_min_score\n",
        "        old_spm.pieces.append(new_p)\n",
        "\n",
        "print(len(old_spm.pieces))"
      ],
      "metadata": {
        "colab": {
          "base_uri": "https://localhost:8080/"
        },
        "id": "TkuddBg399Sy",
        "outputId": "afc32056-d5a6-49f8-f0cb-0497d0370225"
      },
      "execution_count": null,
      "outputs": [
        {
          "output_type": "stream",
          "name": "stdout",
          "text": [
            "262721\n"
          ]
        }
      ]
    },
    {
      "cell_type": "code",
      "source": [
        "# saving the result to disk\n",
        "with open(NEW_SPM_NAME, 'wb') as f:\n",
        "    f.write(old_spm.SerializeToString())"
      ],
      "metadata": {
        "id": "sgtx9fYy-BXm"
      },
      "execution_count": null,
      "outputs": []
    },
    {
      "cell_type": "markdown",
      "source": [
        "Finally, I need to update the neural network weights:\n",
        "* add new embeddings for the freshly added tokens.\n",
        "* in NLLB, the token embeddings reside in the parameter called shared.\n",
        "It is used both in the encoder and decoder input embeddings and in the last decoder layer that predicts the distribution of the next token.  \n",
        "  \n",
        "By default, the embeddings for the new tokens are initialized randomly.   \n",
        "Instead, I re-initialize each one with the average of the embeddings of the old tokens that corresponded to the new token (or if there are none, with the embedding of the <unk> token). This slightly improves the training speed, because the newly created tokken embeddings are already informative."
      ],
      "metadata": {
        "id": "IFfG_0al-CME"
      }
    },
    {
      "cell_type": "markdown",
      "source": [
        "# 6.UPDATING TOKENIZER VOCABLUARY ------------------------------------------------"
      ],
      "metadata": {
        "id": "C57H6gyM-U65"
      }
    },
    {
      "cell_type": "code",
      "source": [
        "tokenizer_old = NllbTokenizer.from_pretrained(MODEL_NAME)\n",
        "print(len(tokenizer_old))\n",
        "print(tokenizer_old.convert_ids_to_tokens([256202, 256203]))"
      ],
      "metadata": {
        "colab": {
          "base_uri": "https://localhost:8080/"
        },
        "id": "oemdTF1X-XqO",
        "outputId": "f05ca094-d912-400c-8362-59b3b608285e"
      },
      "execution_count": null,
      "outputs": [
        {
          "output_type": "stream",
          "name": "stdout",
          "text": [
            "256204\n",
            "['zul_Latn', '<mask>']\n"
          ]
        }
      ]
    },
    {
      "cell_type": "code",
      "source": [
        "tokenizer = NllbTokenizer.from_pretrained(MODEL_NAME, vocab_file=NEW_SPM_NAME)"
      ],
      "metadata": {
        "id": "Rx0hn1h1SUoq"
      },
      "execution_count": null,
      "outputs": []
    },
    {
      "cell_type": "code",
      "source": [
        "print(len(tokenizer))\n",
        "print(tokenizer.convert_ids_to_tokens([262923, 262924]))"
      ],
      "metadata": {
        "colab": {
          "base_uri": "https://localhost:8080/"
        },
        "id": "guFHH81o-hje",
        "outputId": "b9a0b554-9f85-4ddd-c9d3-18fd78e0e52b"
      },
      "execution_count": null,
      "outputs": [
        {
          "output_type": "stream",
          "name": "stdout",
          "text": [
            "262925\n",
            "['zul_Latn', '<mask>']\n"
          ]
        }
      ]
    },
    {
      "cell_type": "code",
      "source": [
        "print(tokenizer.vocab_size)"
      ],
      "metadata": {
        "colab": {
          "base_uri": "https://localhost:8080/"
        },
        "id": "b4vEo-Z6XA5U",
        "outputId": "cffb9743-0479-4006-a2f6-2904dd42b260"
      },
      "execution_count": null,
      "outputs": [
        {
          "output_type": "stream",
          "name": "stdout",
          "text": [
            "262925\n"
          ]
        }
      ]
    },
    {
      "cell_type": "code",
      "source": [
        "n_new_tokens = len(tokenizer) - len(tokenizer_old)\n",
        "print(n_new_tokens)"
      ],
      "metadata": {
        "colab": {
          "base_uri": "https://localhost:8080/"
        },
        "id": "_r5r-p6e-lkD",
        "outputId": "83fc3436-d67d-4cf2-a498-14f37fad16e5"
      },
      "execution_count": null,
      "outputs": [
        {
          "output_type": "stream",
          "name": "stdout",
          "text": [
            "6721\n"
          ]
        }
      ]
    },
    {
      "cell_type": "code",
      "source": [
        "def fix_tokenizer(tokenizer, new_lang=LANG_UNICODE):\n",
        "    \"\"\" Add a new language token to the tokenizer vocabulary (this should be done each time after its initialization) \"\"\"\n",
        "    old_len = len(tokenizer) - int(new_lang in tokenizer.added_tokens_encoder)\n",
        "    tokenizer.lang_code_to_id[new_lang] = old_len-1\n",
        "    tokenizer.id_to_lang_code[old_len-1] = new_lang\n",
        "    # always move \"mask\" to the last position\n",
        "    tokenizer.fairseq_tokens_to_ids[\"<mask>\"] = len(tokenizer.sp_model) + len(tokenizer.lang_code_to_id) + tokenizer.fairseq_offset\n",
        "\n",
        "    tokenizer.fairseq_tokens_to_ids.update(tokenizer.lang_code_to_id)\n",
        "    tokenizer.fairseq_ids_to_tokens = {v: k for k, v in tokenizer.fairseq_tokens_to_ids.items()}\n",
        "    if new_lang not in tokenizer._additional_special_tokens:\n",
        "        tokenizer._additional_special_tokens.append(new_lang)\n",
        "    # clear the added token encoder; otherwise a new token may end up there by mistake\n",
        "    tokenizer.added_tokens_encoder = {}\n",
        "    tokenizer.added_tokens_decoder = {}"
      ],
      "metadata": {
        "id": "901mFECX-pC-"
      },
      "execution_count": null,
      "outputs": []
    },
    {
      "cell_type": "code",
      "source": [
        "fix_tokenizer(tokenizer)"
      ],
      "metadata": {
        "id": "3nboIjBuEWRA"
      },
      "execution_count": null,
      "outputs": []
    },
    {
      "cell_type": "markdown",
      "source": [
        "### Check"
      ],
      "metadata": {
        "id": "-LLUpXfS_cKx"
      }
    },
    {
      "cell_type": "code",
      "source": [
        "print(tokenizer.convert_ids_to_tokens([262923, 262924, 262925])) # ['zul_Latn', 'krc_Cyrl', '<mask>']\n",
        "print(tokenizer.convert_tokens_to_ids(['zul_Latn', 'krc_Cyrl', '<mask>'])) # [262923, 262924, 262925]"
      ],
      "metadata": {
        "colab": {
          "base_uri": "https://localhost:8080/"
        },
        "id": "FYMrBOR7-svk",
        "outputId": "75f48a61-8536-4956-fc1e-570d9fb6a8ab"
      },
      "execution_count": null,
      "outputs": [
        {
          "output_type": "stream",
          "name": "stdout",
          "text": [
            "['zul_Latn', 'krc_Cyrl', '<mask>']\n",
            "[262923, 262924, 262925]\n"
          ]
        }
      ]
    },
    {
      "cell_type": "code",
      "source": [
        "print(len(tokenizer_old), len(tokenizer)) # 256204, 268559\n",
        "added_vocab = set(tokenizer.get_vocab()).difference(set(tokenizer_old.get_vocab()))\n",
        "print(len(added_vocab))  # 6721"
      ],
      "metadata": {
        "colab": {
          "base_uri": "https://localhost:8080/"
        },
        "id": "jUa18KWf-vVf",
        "outputId": "86e1d927-485d-4a39-bc0a-bf46878a0afb"
      },
      "execution_count": null,
      "outputs": [
        {
          "output_type": "stream",
          "name": "stdout",
          "text": [
            "256204 262926\n",
            "6721\n"
          ]
        }
      ]
    },
    {
      "cell_type": "code",
      "source": [
        "text = random.choice(all_sentences_krc)\n",
        "\n",
        "print(tokenizer_old.tokenize(text))\n",
        "print(tokenizer.tokenize(text))"
      ],
      "metadata": {
        "colab": {
          "base_uri": "https://localhost:8080/"
        },
        "id": "uKHPKJsi-zKQ",
        "outputId": "0743ad97-d599-4bc1-eb3e-bcc2b5021a1f"
      },
      "execution_count": null,
      "outputs": [
        {
          "output_type": "stream",
          "name": "stdout",
          "text": [
            "['▁Ч', 'ома', 'рт', '▁q', 'ой', 'чу', '▁деген', '▁j', 'а', 'ша', 'w', '-', 'тур', 'му', 'ш', '▁j', 'ома', 'q', 'да', '▁бир', '▁ё', 'кс', 'юз', '▁q', 'ыз', 'ны', '▁q', 'а', 'дары', 'ны', '▁ю', 'с', 'юн', 'ден', '▁айты', 'лады', ',', '▁А', 'n', 'а', '▁бир', '▁та', 'лай', '▁кере', '▁аман', 'лы', 'q', 'чы', 'ланы', '▁хыя', 'нат', 'лары', '▁j', 'ете', 'ди', ',', '▁А', 'лай', '▁ол', '▁хар', '▁заманда', '▁q', 'ы', 'йын', '▁болу', 'м', 'ла', 'дан', ',', '▁бе', 'тин', '▁тас', '▁эт', 'мей', ',', '▁чы', 'g', 'ы', 'b', '▁тура', 'ды', '.']\n",
            "['▁Ч', 'ома', 'рт', '▁q', 'ойчу', '▁деген', '▁j', 'аша', 'w', '-', 'турмуш', '▁j', 'ома', 'q', 'да', '▁бир', '▁ё', 'кс', 'юз', '▁q', 'ызны', '▁q', 'а', 'дары', 'ны', '▁юсюнден', '▁айтылады', ',', '▁А', 'n', 'а', '▁бир', '▁талай', '▁кере', '▁аманлы', 'q', 'чыланы', '▁хыянат', 'лары', '▁j', 'етеди', ',', '▁Алай', '▁ол', '▁хар', '▁заманда', '▁q', 'ыйын', '▁болум', 'ладан', ',', '▁бетин', '▁тас', '▁этмей', ',', '▁чы', 'g', 'ы', 'b', '▁турады', '.']\n"
          ]
        }
      ]
    },
    {
      "cell_type": "code",
      "source": [
        "random.seed(1)\n",
        "sample = random.sample(list(all_sentences_krc), 10000)\n",
        "sample[:10]"
      ],
      "metadata": {
        "colab": {
          "base_uri": "https://localhost:8080/"
        },
        "id": "ecwqiE-X-1Ln",
        "outputId": "e4907c1e-7800-49b5-ee9e-f6d2650dc9b2"
      },
      "execution_count": null,
      "outputs": [
        {
          "output_type": "execute_result",
          "data": {
            "text/plain": [
              "['Алай болgанлыqgа тиширыw оюмлулуq бла ийманда, сюймекликде эмда сыйлылыqда турса, Сабийниa табыwуну юсю бла qутхарыллыqды. Jамаgатны тамадалары.',\n",
              " 'см протекать',\n",
              " 'Унипикачияларgа',\n",
              " 'Балтаны сабларgа',\n",
              " 'Мени qартлыqыма qарамаgыз',\n",
              " 'Ол qалайgа барса да, qурgаq отун этиb кегеди.',\n",
              " 'бёлюнмей',\n",
              " 'Кюндюз да, сен ары-бери jюзюw кёбдюле.',\n",
              " 'сов кого-что qучаqларgа',\n",
              " 'Qанат\\xadлычы']"
            ]
          },
          "metadata": {},
          "execution_count": 38
        }
      ]
    },
    {
      "cell_type": "code",
      "source": [
        "pd.DataFrame({\n",
        "    'old': [len(tokenizer_old.tokenize(text)) for text in sample],\n",
        "    'new': [len(tokenizer.tokenize(text)) for text in sample]\n",
        "}).describe()"
      ],
      "metadata": {
        "colab": {
          "base_uri": "https://localhost:8080/",
          "height": 300
        },
        "id": "oxQmB393-3wh",
        "outputId": "21896780-2244-4b9d-ac6b-944bb732dc19"
      },
      "execution_count": null,
      "outputs": [
        {
          "output_type": "execute_result",
          "data": {
            "text/plain": [
              "                old           new\n",
              "count  10000.000000  10000.000000\n",
              "mean      17.860300     13.983000\n",
              "std       35.371233     27.282686\n",
              "min        1.000000      1.000000\n",
              "25%        4.000000      3.000000\n",
              "50%        7.000000      6.000000\n",
              "75%       14.000000     11.000000\n",
              "max      735.000000    567.000000"
            ],
            "text/html": [
              "\n",
              "  <div id=\"df-6570934a-b3c1-41ab-b2a0-95207a036a49\" class=\"colab-df-container\">\n",
              "    <div>\n",
              "<style scoped>\n",
              "    .dataframe tbody tr th:only-of-type {\n",
              "        vertical-align: middle;\n",
              "    }\n",
              "\n",
              "    .dataframe tbody tr th {\n",
              "        vertical-align: top;\n",
              "    }\n",
              "\n",
              "    .dataframe thead th {\n",
              "        text-align: right;\n",
              "    }\n",
              "</style>\n",
              "<table border=\"1\" class=\"dataframe\">\n",
              "  <thead>\n",
              "    <tr style=\"text-align: right;\">\n",
              "      <th></th>\n",
              "      <th>old</th>\n",
              "      <th>new</th>\n",
              "    </tr>\n",
              "  </thead>\n",
              "  <tbody>\n",
              "    <tr>\n",
              "      <th>count</th>\n",
              "      <td>10000.000000</td>\n",
              "      <td>10000.000000</td>\n",
              "    </tr>\n",
              "    <tr>\n",
              "      <th>mean</th>\n",
              "      <td>17.860300</td>\n",
              "      <td>13.983000</td>\n",
              "    </tr>\n",
              "    <tr>\n",
              "      <th>std</th>\n",
              "      <td>35.371233</td>\n",
              "      <td>27.282686</td>\n",
              "    </tr>\n",
              "    <tr>\n",
              "      <th>min</th>\n",
              "      <td>1.000000</td>\n",
              "      <td>1.000000</td>\n",
              "    </tr>\n",
              "    <tr>\n",
              "      <th>25%</th>\n",
              "      <td>4.000000</td>\n",
              "      <td>3.000000</td>\n",
              "    </tr>\n",
              "    <tr>\n",
              "      <th>50%</th>\n",
              "      <td>7.000000</td>\n",
              "      <td>6.000000</td>\n",
              "    </tr>\n",
              "    <tr>\n",
              "      <th>75%</th>\n",
              "      <td>14.000000</td>\n",
              "      <td>11.000000</td>\n",
              "    </tr>\n",
              "    <tr>\n",
              "      <th>max</th>\n",
              "      <td>735.000000</td>\n",
              "      <td>567.000000</td>\n",
              "    </tr>\n",
              "  </tbody>\n",
              "</table>\n",
              "</div>\n",
              "    <div class=\"colab-df-buttons\">\n",
              "\n",
              "  <div class=\"colab-df-container\">\n",
              "    <button class=\"colab-df-convert\" onclick=\"convertToInteractive('df-6570934a-b3c1-41ab-b2a0-95207a036a49')\"\n",
              "            title=\"Convert this dataframe to an interactive table.\"\n",
              "            style=\"display:none;\">\n",
              "\n",
              "  <svg xmlns=\"http://www.w3.org/2000/svg\" height=\"24px\" viewBox=\"0 -960 960 960\">\n",
              "    <path d=\"M120-120v-720h720v720H120Zm60-500h600v-160H180v160Zm220 220h160v-160H400v160Zm0 220h160v-160H400v160ZM180-400h160v-160H180v160Zm440 0h160v-160H620v160ZM180-180h160v-160H180v160Zm440 0h160v-160H620v160Z\"/>\n",
              "  </svg>\n",
              "    </button>\n",
              "\n",
              "  <style>\n",
              "    .colab-df-container {\n",
              "      display:flex;\n",
              "      gap: 12px;\n",
              "    }\n",
              "\n",
              "    .colab-df-convert {\n",
              "      background-color: #E8F0FE;\n",
              "      border: none;\n",
              "      border-radius: 50%;\n",
              "      cursor: pointer;\n",
              "      display: none;\n",
              "      fill: #1967D2;\n",
              "      height: 32px;\n",
              "      padding: 0 0 0 0;\n",
              "      width: 32px;\n",
              "    }\n",
              "\n",
              "    .colab-df-convert:hover {\n",
              "      background-color: #E2EBFA;\n",
              "      box-shadow: 0px 1px 2px rgba(60, 64, 67, 0.3), 0px 1px 3px 1px rgba(60, 64, 67, 0.15);\n",
              "      fill: #174EA6;\n",
              "    }\n",
              "\n",
              "    .colab-df-buttons div {\n",
              "      margin-bottom: 4px;\n",
              "    }\n",
              "\n",
              "    [theme=dark] .colab-df-convert {\n",
              "      background-color: #3B4455;\n",
              "      fill: #D2E3FC;\n",
              "    }\n",
              "\n",
              "    [theme=dark] .colab-df-convert:hover {\n",
              "      background-color: #434B5C;\n",
              "      box-shadow: 0px 1px 3px 1px rgba(0, 0, 0, 0.15);\n",
              "      filter: drop-shadow(0px 1px 2px rgba(0, 0, 0, 0.3));\n",
              "      fill: #FFFFFF;\n",
              "    }\n",
              "  </style>\n",
              "\n",
              "    <script>\n",
              "      const buttonEl =\n",
              "        document.querySelector('#df-6570934a-b3c1-41ab-b2a0-95207a036a49 button.colab-df-convert');\n",
              "      buttonEl.style.display =\n",
              "        google.colab.kernel.accessAllowed ? 'block' : 'none';\n",
              "\n",
              "      async function convertToInteractive(key) {\n",
              "        const element = document.querySelector('#df-6570934a-b3c1-41ab-b2a0-95207a036a49');\n",
              "        const dataTable =\n",
              "          await google.colab.kernel.invokeFunction('convertToInteractive',\n",
              "                                                    [key], {});\n",
              "        if (!dataTable) return;\n",
              "\n",
              "        const docLinkHtml = 'Like what you see? Visit the ' +\n",
              "          '<a target=\"_blank\" href=https://colab.research.google.com/notebooks/data_table.ipynb>data table notebook</a>'\n",
              "          + ' to learn more about interactive tables.';\n",
              "        element.innerHTML = '';\n",
              "        dataTable['output_type'] = 'display_data';\n",
              "        await google.colab.output.renderOutput(dataTable, element);\n",
              "        const docLink = document.createElement('div');\n",
              "        docLink.innerHTML = docLinkHtml;\n",
              "        element.appendChild(docLink);\n",
              "      }\n",
              "    </script>\n",
              "  </div>\n",
              "\n",
              "\n",
              "<div id=\"df-c4e3b1f8-f518-490f-887c-583d06a0f928\">\n",
              "  <button class=\"colab-df-quickchart\" onclick=\"quickchart('df-c4e3b1f8-f518-490f-887c-583d06a0f928')\"\n",
              "            title=\"Suggest charts.\"\n",
              "            style=\"display:none;\">\n",
              "\n",
              "<svg xmlns=\"http://www.w3.org/2000/svg\" height=\"24px\"viewBox=\"0 0 24 24\"\n",
              "     width=\"24px\">\n",
              "    <g>\n",
              "        <path d=\"M19 3H5c-1.1 0-2 .9-2 2v14c0 1.1.9 2 2 2h14c1.1 0 2-.9 2-2V5c0-1.1-.9-2-2-2zM9 17H7v-7h2v7zm4 0h-2V7h2v10zm4 0h-2v-4h2v4z\"/>\n",
              "    </g>\n",
              "</svg>\n",
              "  </button>\n",
              "\n",
              "<style>\n",
              "  .colab-df-quickchart {\n",
              "      --bg-color: #E8F0FE;\n",
              "      --fill-color: #1967D2;\n",
              "      --hover-bg-color: #E2EBFA;\n",
              "      --hover-fill-color: #174EA6;\n",
              "      --disabled-fill-color: #AAA;\n",
              "      --disabled-bg-color: #DDD;\n",
              "  }\n",
              "\n",
              "  [theme=dark] .colab-df-quickchart {\n",
              "      --bg-color: #3B4455;\n",
              "      --fill-color: #D2E3FC;\n",
              "      --hover-bg-color: #434B5C;\n",
              "      --hover-fill-color: #FFFFFF;\n",
              "      --disabled-bg-color: #3B4455;\n",
              "      --disabled-fill-color: #666;\n",
              "  }\n",
              "\n",
              "  .colab-df-quickchart {\n",
              "    background-color: var(--bg-color);\n",
              "    border: none;\n",
              "    border-radius: 50%;\n",
              "    cursor: pointer;\n",
              "    display: none;\n",
              "    fill: var(--fill-color);\n",
              "    height: 32px;\n",
              "    padding: 0;\n",
              "    width: 32px;\n",
              "  }\n",
              "\n",
              "  .colab-df-quickchart:hover {\n",
              "    background-color: var(--hover-bg-color);\n",
              "    box-shadow: 0 1px 2px rgba(60, 64, 67, 0.3), 0 1px 3px 1px rgba(60, 64, 67, 0.15);\n",
              "    fill: var(--button-hover-fill-color);\n",
              "  }\n",
              "\n",
              "  .colab-df-quickchart-complete:disabled,\n",
              "  .colab-df-quickchart-complete:disabled:hover {\n",
              "    background-color: var(--disabled-bg-color);\n",
              "    fill: var(--disabled-fill-color);\n",
              "    box-shadow: none;\n",
              "  }\n",
              "\n",
              "  .colab-df-spinner {\n",
              "    border: 2px solid var(--fill-color);\n",
              "    border-color: transparent;\n",
              "    border-bottom-color: var(--fill-color);\n",
              "    animation:\n",
              "      spin 1s steps(1) infinite;\n",
              "  }\n",
              "\n",
              "  @keyframes spin {\n",
              "    0% {\n",
              "      border-color: transparent;\n",
              "      border-bottom-color: var(--fill-color);\n",
              "      border-left-color: var(--fill-color);\n",
              "    }\n",
              "    20% {\n",
              "      border-color: transparent;\n",
              "      border-left-color: var(--fill-color);\n",
              "      border-top-color: var(--fill-color);\n",
              "    }\n",
              "    30% {\n",
              "      border-color: transparent;\n",
              "      border-left-color: var(--fill-color);\n",
              "      border-top-color: var(--fill-color);\n",
              "      border-right-color: var(--fill-color);\n",
              "    }\n",
              "    40% {\n",
              "      border-color: transparent;\n",
              "      border-right-color: var(--fill-color);\n",
              "      border-top-color: var(--fill-color);\n",
              "    }\n",
              "    60% {\n",
              "      border-color: transparent;\n",
              "      border-right-color: var(--fill-color);\n",
              "    }\n",
              "    80% {\n",
              "      border-color: transparent;\n",
              "      border-right-color: var(--fill-color);\n",
              "      border-bottom-color: var(--fill-color);\n",
              "    }\n",
              "    90% {\n",
              "      border-color: transparent;\n",
              "      border-bottom-color: var(--fill-color);\n",
              "    }\n",
              "  }\n",
              "</style>\n",
              "\n",
              "  <script>\n",
              "    async function quickchart(key) {\n",
              "      const quickchartButtonEl =\n",
              "        document.querySelector('#' + key + ' button');\n",
              "      quickchartButtonEl.disabled = true;  // To prevent multiple clicks.\n",
              "      quickchartButtonEl.classList.add('colab-df-spinner');\n",
              "      try {\n",
              "        const charts = await google.colab.kernel.invokeFunction(\n",
              "            'suggestCharts', [key], {});\n",
              "      } catch (error) {\n",
              "        console.error('Error during call to suggestCharts:', error);\n",
              "      }\n",
              "      quickchartButtonEl.classList.remove('colab-df-spinner');\n",
              "      quickchartButtonEl.classList.add('colab-df-quickchart-complete');\n",
              "    }\n",
              "    (() => {\n",
              "      let quickchartButtonEl =\n",
              "        document.querySelector('#df-c4e3b1f8-f518-490f-887c-583d06a0f928 button');\n",
              "      quickchartButtonEl.style.display =\n",
              "        google.colab.kernel.accessAllowed ? 'block' : 'none';\n",
              "    })();\n",
              "  </script>\n",
              "</div>\n",
              "    </div>\n",
              "  </div>\n"
            ]
          },
          "metadata": {},
          "execution_count": 39
        }
      ]
    },
    {
      "cell_type": "code",
      "source": [
        "print(stats)"
      ],
      "metadata": {
        "colab": {
          "base_uri": "https://localhost:8080/"
        },
        "id": "nFXCcCH5-4XO",
        "outputId": "aa4d28f0-ea0c-43ea-e282-eaf7b2acdeed"
      },
      "execution_count": null,
      "outputs": [
        {
          "output_type": "stream",
          "name": "stdout",
          "text": [
            "            rus_toks       krc_toks      rus_words      krc_words\n",
            "count  260602.000000  260602.000000  260602.000000  260602.000000\n",
            "mean       13.775873      18.545679       8.301982       7.806909\n",
            "std        29.168188      38.949462      19.266522      17.671651\n",
            "min         1.000000       1.000000       1.000000       1.000000\n",
            "25%         3.000000       4.000000       1.000000       1.000000\n",
            "50%         5.000000       7.000000       2.000000       2.000000\n",
            "75%        11.000000      14.000000       7.000000       6.000000\n",
            "max      2019.000000    2506.000000    1277.000000    1072.000000\n"
          ]
        }
      ]
    },
    {
      "cell_type": "code",
      "source": [
        "new_tot_len, tot_len = 0, 0\n",
        "for text in sample:\n",
        "    for tok in tokenizer.tokenize(text):\n",
        "        s = len(tok)\n",
        "        tot_len += s\n",
        "        if tokenizer.convert_tokens_to_ids(tok) > len(tokenizer_old.sp_model):\n",
        "            new_tot_len += s\n",
        "\n",
        "print(new_tot_len / tot_len)"
      ],
      "metadata": {
        "colab": {
          "base_uri": "https://localhost:8080/"
        },
        "id": "bJTfR0y8_Od5",
        "outputId": "f00f46bc-af8b-4523-8e04-27c32276546e"
      },
      "execution_count": null,
      "outputs": [
        {
          "output_type": "stream",
          "name": "stdout",
          "text": [
            "0.40127202549940005\n"
          ]
        }
      ]
    },
    {
      "cell_type": "markdown",
      "source": [
        "# 7. UPDATING THE MODEL EMBEDDINGS ------------------------------------------------"
      ],
      "metadata": {
        "id": "Kr7a4es5_kju"
      }
    },
    {
      "cell_type": "code",
      "source": [
        "model = AutoModelForSeq2SeqLM.from_pretrained(MODEL_NAME)\n",
        "print(model.model.shared)"
      ],
      "metadata": {
        "colab": {
          "base_uri": "https://localhost:8080/",
          "height": 130,
          "referenced_widgets": [
            "628a708eacfe4dd3b4fa9d3977815b57",
            "6c053a2025014424a1654dbb84ebaf00",
            "994d4a2b4c69433493d0476e08fa9e86",
            "ad70310aad3b4ba3bed9f4debce31d94",
            "a58ac3c1663c45c6830da5c3301aa506",
            "ed4320294fb943c2b76487119b83332f",
            "c506541280734641ae65baa574a7d899",
            "6a814be1c6e24e3fb6b70d43280eff32",
            "f69b63d230f54a8297ef46ec4e766e41",
            "208d93238b77423f8716c08c93a3fcbe",
            "938ad09c375042e7bd8e5d68429ed575",
            "7c3e532a9427495ebdaf1fa157b18d77",
            "599e137698134f6caac6b738e7cf6cc3",
            "4b0ae22ef4f14b0a829a60dd670c44b8",
            "d3d078c57e5c4c0db968a3e9d1d89a45",
            "e173571c3d0947ef952a0688064e277c",
            "097f5d1651a5413583c8bd54946ac966",
            "dcc342437c474aeb88c63d4d1cca649f",
            "6bf2d1a965144a43b2611f60e6ef7f9b",
            "3aee3d7ef1134364ae4580f6de55d873",
            "fb8553cb9af14432a719ee33e2ddd478",
            "1a2bf3c86a4245788f5e0dffcdea7929",
            "1679ab6753be4001ad0b354b8d259c53",
            "83674799734f45779283114e42d572b0",
            "a538194a26be4d08828d696e8c0863fd",
            "c5faba50387e4003a79e0f2feb78ac60",
            "c859942972e74cce8eaba2120a76e8d4",
            "bcdd4dd66f1a44129b8fea41ce4a9174",
            "932c8aa2d3f6487cb1f4498137b7f346",
            "72d5668c3888498e965877edd214c4b5",
            "9b04640ebaa44128bb4538c26c342d49",
            "0b906618412a4000bb3b71083a686169",
            "7079f058c8a443559808518a0e52ec29"
          ]
        },
        "id": "J5R4Zrlk_hbz",
        "outputId": "7858dedc-88c9-4e60-d117-2a3b50702b47"
      },
      "execution_count": null,
      "outputs": [
        {
          "output_type": "display_data",
          "data": {
            "text/plain": [
              "(…)-distilled-600M/resolve/main/config.json:   0%|          | 0.00/846 [00:00<?, ?B/s]"
            ],
            "application/vnd.jupyter.widget-view+json": {
              "version_major": 2,
              "version_minor": 0,
              "model_id": "628a708eacfe4dd3b4fa9d3977815b57"
            }
          },
          "metadata": {}
        },
        {
          "output_type": "display_data",
          "data": {
            "text/plain": [
              "pytorch_model.bin:   0%|          | 0.00/2.46G [00:00<?, ?B/s]"
            ],
            "application/vnd.jupyter.widget-view+json": {
              "version_major": 2,
              "version_minor": 0,
              "model_id": "7c3e532a9427495ebdaf1fa157b18d77"
            }
          },
          "metadata": {}
        },
        {
          "output_type": "display_data",
          "data": {
            "text/plain": [
              "(…)600M/resolve/main/generation_config.json:   0%|          | 0.00/189 [00:00<?, ?B/s]"
            ],
            "application/vnd.jupyter.widget-view+json": {
              "version_major": 2,
              "version_minor": 0,
              "model_id": "1679ab6753be4001ad0b354b8d259c53"
            }
          },
          "metadata": {}
        },
        {
          "output_type": "stream",
          "name": "stdout",
          "text": [
            "Embedding(256206, 1024, padding_idx=1)\n"
          ]
        }
      ]
    },
    {
      "cell_type": "code",
      "source": [
        "model.resize_token_embeddings(len(tokenizer))\n",
        "moved_tokens = list(tokenizer_old.lang_code_to_id) + ['<mask>']\n",
        "model.model.shared.weight.data[tokenizer.convert_tokens_to_ids(moved_tokens)] = model.model.shared.weight.data[tokenizer_old.convert_tokens_to_ids(moved_tokens)]"
      ],
      "metadata": {
        "colab": {
          "base_uri": "https://localhost:8080/"
        },
        "id": "GJV2xbAO_oxF",
        "outputId": "d2959eba-f805-492b-a269-02aee5addb68"
      },
      "execution_count": null,
      "outputs": [
        {
          "output_type": "stream",
          "name": "stderr",
          "text": [
            "You are resizing the embedding layer without providing a `pad_to_multiple_of` parameter. This means that the new embedding dimension will be 262926. This might induce some performance reduction as *Tensor Cores* will not be available. For more details about this, or help on choosing the correct value for resizing, refer to this guide: https://docs.nvidia.com/deeplearning/performance/dl-performance-matrix-multiplication/index.html#requirements-tc\n"
          ]
        }
      ]
    },
    {
      "cell_type": "markdown",
      "source": [
        "Because we have added one more language, its id must be computed separately, e.g. as an average of related languages.  \n",
        "* 'crh_Latn': 256039 - Crimean Tatar language\n",
        "* 'tat_Cyrl': 256171 - Tatar language\n",
        "* 'kaz_Cyrl': 256089 - Kazakh language"
      ],
      "metadata": {
        "id": "1CNO1myk_1qa"
      }
    },
    {
      "cell_type": "code",
      "source": [
        "model.model.shared.weight.data[tokenizer.convert_tokens_to_ids(LANG_UNICODE)] = (\n",
        "    model.model.shared.weight.data[tokenizer_old.convert_tokens_to_ids('tat_Cyrl')] * 0.55\n",
        "    + model.model.shared.weight.data[tokenizer_old.convert_tokens_to_ids('crh_Latn')] * 0.35\n",
        "    + model.model.shared.weight.data[tokenizer_old.convert_tokens_to_ids('kaz_Cyrl')] * 0.1\n",
        ")"
      ],
      "metadata": {
        "id": "2UNuuefJ_5wc"
      },
      "execution_count": null,
      "outputs": []
    },
    {
      "cell_type": "markdown",
      "source": [
        "re-initializing the new embeddings"
      ],
      "metadata": {
        "id": "eNZx9PQaANhL"
      }
    },
    {
      "cell_type": "code",
      "source": [
        "for t in tqdm(added_vocab):\n",
        "    tt = tokenizer_old(t, add_special_tokens=False).input_ids\n",
        "    if len(tt) == 0:\n",
        "        tt = [tokenizer_old.unk_token_id]\n",
        "    idx = tokenizer.convert_tokens_to_ids(t)\n",
        "    model.model.shared.weight.data[idx] = model.model.shared.weight.data[tt].mean(0)"
      ],
      "metadata": {
        "colab": {
          "base_uri": "https://localhost:8080/",
          "height": 49,
          "referenced_widgets": [
            "9ade8b7a764f43459b0220313748a3a8",
            "146fc13158e548f598166a51bf13a07b",
            "28798f965b9e4da58f80881bb3f0f57c",
            "c255db709b624e72bec66c912c255610",
            "109c04684d284886b8a726b5866a2244",
            "e2c7f6bf862e494b8c2378bdd0cdee5e",
            "fbedee6f9b6e467c9e7cb0f1d63889ed",
            "d7df221eea4f44cd8086bca1a9f0258c",
            "e40c1958a6ef4ba3a42141b481fb7a67",
            "883c5f8820224a1fbef3683b246abd9a",
            "431ac96c79474978a2b7c0ea7bf98a62"
          ]
        },
        "id": "eWtpf_KCAQ3E",
        "outputId": "60fe7186-cf06-4955-c44d-a60b18e3a7e4"
      },
      "execution_count": null,
      "outputs": [
        {
          "output_type": "display_data",
          "data": {
            "text/plain": [
              "  0%|          | 0/6721 [00:00<?, ?it/s]"
            ],
            "application/vnd.jupyter.widget-view+json": {
              "version_major": 2,
              "version_minor": 0,
              "model_id": "9ade8b7a764f43459b0220313748a3a8"
            }
          },
          "metadata": {}
        }
      ]
    },
    {
      "cell_type": "markdown",
      "source": [
        "### Save Model"
      ],
      "metadata": {
        "id": "Qm-m80uTAbQe"
      }
    },
    {
      "cell_type": "code",
      "source": [
        "model.save_pretrained(MODEL_PATH_RAW)\n",
        "tokenizer.save_pretrained(MODEL_PATH_RAW)"
      ],
      "metadata": {
        "colab": {
          "base_uri": "https://localhost:8080/"
        },
        "id": "qsQbB7yGAbEH",
        "outputId": "8efc9fb9-13d0-44c8-d4d4-b9abe7b21bc1"
      },
      "execution_count": null,
      "outputs": [
        {
          "output_type": "execute_result",
          "data": {
            "text/plain": [
              "('/Til/MyDrive/Colab Notebooks/Til/models/NLLB_v1/nllb_krc_raw/tokenizer_config.json',\n",
              " '/Til/MyDrive/Colab Notebooks/Til/models/NLLB_v1/nllb_krc_raw/special_tokens_map.json',\n",
              " '/Til/MyDrive/Colab Notebooks/Til/models/NLLB_v1/nllb_krc_raw/sentencepiece.bpe.model',\n",
              " '/Til/MyDrive/Colab Notebooks/Til/models/NLLB_v1/nllb_krc_raw/added_tokens.json')"
            ]
          },
          "metadata": {},
          "execution_count": 46
        }
      ]
    },
    {
      "cell_type": "code",
      "source": [
        "model1 = AutoModelForSeq2SeqLM.from_pretrained(MODEL_PATH_RAW)\n",
        "tokenizer1 = NllbTokenizer.from_pretrained(MODEL_PATH_RAW)\n",
        "# tokenizer1 = NllbTokenizer.from_pretrained(MODEL_PATH_RAW, rebuild=True)\n",
        "fix_tokenizer(tokenizer1)"
      ],
      "metadata": {
        "colab": {
          "base_uri": "https://localhost:8080/"
        },
        "id": "yKvo1-PfAp6u",
        "outputId": "cb9b38f4-ea5e-4069-dc12-d14cd51d0515"
      },
      "execution_count": null,
      "outputs": [
        {
          "output_type": "stream",
          "name": "stderr",
          "text": [
            "Special tokens have been added in the vocabulary, make sure the associated word embeddings are fine-tuned or trained.\n"
          ]
        }
      ]
    },
    {
      "cell_type": "code",
      "source": [
        "model.model.shared\n",
        "model1.model.shared"
      ],
      "metadata": {
        "colab": {
          "base_uri": "https://localhost:8080/"
        },
        "id": "JiaAn41dApx-",
        "outputId": "200867ed-f7b4-451c-8f86-e374a5ab5828"
      },
      "execution_count": null,
      "outputs": [
        {
          "output_type": "execute_result",
          "data": {
            "text/plain": [
              "Embedding(262926, 1024, padding_idx=1)"
            ]
          },
          "metadata": {},
          "execution_count": 48
        }
      ]
    },
    {
      "cell_type": "markdown",
      "source": [
        "# 8.CHECK MODEL TRANSLATION ABILITY ------------------------------------------------"
      ],
      "metadata": {
        "id": "_1-_i-cCAvb9"
      }
    },
    {
      "cell_type": "markdown",
      "source": [
        "translate Hindi to French"
      ],
      "metadata": {
        "id": "PTNSqQM6AyII"
      }
    },
    {
      "cell_type": "code",
      "source": [
        "article_hi = \"संयुक्त राष्ट्र के प्रमुख का कहना है कि सीरिया में कोई सैन्य समाधान नहीं है\"\n",
        "\n",
        "tokenizer.src_lang = \"hin_Deva\"\n",
        "encoded_hi = tokenizer(article_hi, return_tensors=\"pt\")\n",
        "generated_tokens = model.generate(\n",
        "    **encoded_hi,\n",
        "    forced_bos_token_id=tokenizer.lang_code_to_id[\"fra_Latn\"],\n",
        "    max_length=30,\n",
        "    num_beams=1\n",
        ")\n",
        "tokenizer.batch_decode(generated_tokens, skip_special_tokens=True)"
      ],
      "metadata": {
        "colab": {
          "base_uri": "https://localhost:8080/"
        },
        "id": "vb7RIbUeA1XQ",
        "outputId": "44c55f07-0a3e-4292-fa8f-a83c61b67f73"
      },
      "execution_count": null,
      "outputs": [
        {
          "output_type": "execute_result",
          "data": {
            "text/plain": [
              "[\"Le chef de l'ONU affirme qu'il n'y a pas de solution militaire en Syrie\"]"
            ]
          },
          "metadata": {},
          "execution_count": 49
        }
      ]
    },
    {
      "cell_type": "markdown",
      "source": [
        "translate Hindi to Russian"
      ],
      "metadata": {
        "id": "YVt-cr-iA9wh"
      }
    },
    {
      "cell_type": "code",
      "source": [
        "generated_tokens = model.generate(\n",
        "    **encoded_hi,\n",
        "    forced_bos_token_id=tokenizer.lang_code_to_id[\"rus_Cyrl\"],\n",
        "    max_length=30,\n",
        "    num_beams=5,\n",
        "    repetition_penalty=30.0,\n",
        ")\n",
        "tokenizer.batch_decode(generated_tokens, skip_special_tokens=True)"
      ],
      "metadata": {
        "colab": {
          "base_uri": "https://localhost:8080/"
        },
        "id": "OaJGxkYSBAUQ",
        "outputId": "b43c16e8-d467-48d8-9f7a-03b5da7f9981"
      },
      "execution_count": null,
      "outputs": [
        {
          "output_type": "execute_result",
          "data": {
            "text/plain": [
              "['Глава ООН говорит, что в Сирии нет военного решения.']"
            ]
          },
          "metadata": {},
          "execution_count": 50
        }
      ]
    },
    {
      "cell_type": "markdown",
      "source": [
        "translate Qarachay-Malqar to Russian"
      ],
      "metadata": {
        "id": "Xe5gEXdsBHFU"
      }
    },
    {
      "cell_type": "code",
      "source": [
        "df = all_sentences.sample(1)[['krc', 'rus']]\n",
        "qm = df.krc.to_list()\n",
        "ru = df.rus.to_list()\n",
        "\n",
        "tokenizer.src_lang = LANG_UNICODE\n",
        "encoded_hi = tokenizer(qm, return_tensors=\"pt\")\n",
        "\n",
        "generated_tokens = model.generate(\n",
        "    **encoded_hi,\n",
        "    forced_bos_token_id=tokenizer.lang_code_to_id[\"rus_Cyrl\"],\n",
        "    max_length=30,\n",
        "    num_beams=5,\n",
        "    repetition_penalty=30.0\n",
        ")\n",
        "tokenizer.batch_decode(generated_tokens, skip_special_tokens=True)"
      ],
      "metadata": {
        "colab": {
          "base_uri": "https://localhost:8080/"
        },
        "id": "384AVV1qBJvv",
        "outputId": "6d7f76b0-ed1c-4572-df15-fcf23424bdb1"
      },
      "execution_count": null,
      "outputs": [
        {
          "output_type": "execute_result",
          "data": {
            "text/plain": [
              "['Токнуться на точку зрения.']"
            ]
          },
          "metadata": {},
          "execution_count": 51
        }
      ]
    }
  ]
}